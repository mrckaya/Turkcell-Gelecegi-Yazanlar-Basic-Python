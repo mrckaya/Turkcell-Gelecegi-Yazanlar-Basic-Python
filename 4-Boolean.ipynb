{
 "cells": [
  {
   "cell_type": "code",
   "execution_count": 1,
   "id": "dfeca19f",
   "metadata": {},
   "outputs": [
    {
     "data": {
      "text/plain": [
       "True"
      ]
     },
     "execution_count": 1,
     "metadata": {},
     "output_type": "execute_result"
    }
   ],
   "source": [
    "True"
   ]
  },
  {
   "cell_type": "code",
   "execution_count": 2,
   "id": "e13335b7",
   "metadata": {},
   "outputs": [
    {
     "data": {
      "text/plain": [
       "False"
      ]
     },
     "execution_count": 2,
     "metadata": {},
     "output_type": "execute_result"
    }
   ],
   "source": [
    "False"
   ]
  },
  {
   "cell_type": "code",
   "execution_count": 3,
   "id": "841090e4",
   "metadata": {},
   "outputs": [],
   "source": [
    "x = True"
   ]
  },
  {
   "cell_type": "code",
   "execution_count": 4,
   "id": "e54d6972",
   "metadata": {},
   "outputs": [
    {
     "data": {
      "text/plain": [
       "bool"
      ]
     },
     "execution_count": 4,
     "metadata": {},
     "output_type": "execute_result"
    }
   ],
   "source": [
    "type(x)"
   ]
  },
  {
   "cell_type": "code",
   "execution_count": 7,
   "id": "5cdfc349",
   "metadata": {},
   "outputs": [],
   "source": [
    "x = False"
   ]
  },
  {
   "cell_type": "code",
   "execution_count": 8,
   "id": "b373f70e",
   "metadata": {},
   "outputs": [
    {
     "data": {
      "text/plain": [
       "bool"
      ]
     },
     "execution_count": 8,
     "metadata": {},
     "output_type": "execute_result"
    }
   ],
   "source": [
    "type(x)"
   ]
  },
  {
   "cell_type": "code",
   "execution_count": 9,
   "id": "ba36905e",
   "metadata": {},
   "outputs": [],
   "source": [
    "karakter_yasiyor = True"
   ]
  },
  {
   "cell_type": "code",
   "execution_count": 10,
   "id": "01e46d75",
   "metadata": {},
   "outputs": [],
   "source": [
    "karakter_yasiyor = False"
   ]
  },
  {
   "cell_type": "code",
   "execution_count": 11,
   "id": "a73adcf4",
   "metadata": {},
   "outputs": [],
   "source": [
    "x = \"Mirac\""
   ]
  },
  {
   "cell_type": "code",
   "execution_count": 12,
   "id": "c6a80467",
   "metadata": {},
   "outputs": [
    {
     "data": {
      "text/plain": [
       "False"
      ]
     },
     "execution_count": 12,
     "metadata": {},
     "output_type": "execute_result"
    }
   ],
   "source": [
    "x.islower()"
   ]
  },
  {
   "cell_type": "code",
   "execution_count": 13,
   "id": "7dee719d",
   "metadata": {},
   "outputs": [
    {
     "data": {
      "text/plain": [
       "False"
      ]
     },
     "execution_count": 13,
     "metadata": {},
     "output_type": "execute_result"
    }
   ],
   "source": [
    "3 < 2"
   ]
  },
  {
   "cell_type": "code",
   "execution_count": 14,
   "id": "2c2984f9",
   "metadata": {},
   "outputs": [
    {
     "data": {
      "text/plain": [
       "True"
      ]
     },
     "execution_count": 14,
     "metadata": {},
     "output_type": "execute_result"
    }
   ],
   "source": [
    "3 > 2"
   ]
  },
  {
   "cell_type": "code",
   "execution_count": 15,
   "id": "09043f9a",
   "metadata": {},
   "outputs": [],
   "source": [
    "not_listesi = [100,90,50,40,60,70,10]"
   ]
  },
  {
   "cell_type": "code",
   "execution_count": 16,
   "id": "220d7655",
   "metadata": {},
   "outputs": [
    {
     "data": {
      "text/plain": [
       "7"
      ]
     },
     "execution_count": 16,
     "metadata": {},
     "output_type": "execute_result"
    }
   ],
   "source": [
    "len(not_listesi)"
   ]
  },
  {
   "cell_type": "code",
   "execution_count": 17,
   "id": "b9da337b",
   "metadata": {},
   "outputs": [
    {
     "data": {
      "text/plain": [
       "420"
      ]
     },
     "execution_count": 17,
     "metadata": {},
     "output_type": "execute_result"
    }
   ],
   "source": [
    "sum(not_listesi)"
   ]
  },
  {
   "cell_type": "code",
   "execution_count": 18,
   "id": "b747766f",
   "metadata": {},
   "outputs": [],
   "source": [
    "ortalama = sum(not_listesi) / len(not_listesi)"
   ]
  },
  {
   "cell_type": "code",
   "execution_count": 19,
   "id": "debe8c42",
   "metadata": {},
   "outputs": [
    {
     "data": {
      "text/plain": [
       "60.0"
      ]
     },
     "execution_count": 19,
     "metadata": {},
     "output_type": "execute_result"
    }
   ],
   "source": [
    "ortalama"
   ]
  },
  {
   "cell_type": "code",
   "execution_count": 20,
   "id": "65f09d35",
   "metadata": {},
   "outputs": [
    {
     "data": {
      "text/plain": [
       "False"
      ]
     },
     "execution_count": 20,
     "metadata": {},
     "output_type": "execute_result"
    }
   ],
   "source": [
    "not_listesi[3] > ortalama"
   ]
  },
  {
   "cell_type": "code",
   "execution_count": 21,
   "id": "9ea2fd55",
   "metadata": {},
   "outputs": [
    {
     "name": "stdout",
     "output_type": "stream",
     "text": [
      "Yasinizi Giriniz:16\n"
     ]
    }
   ],
   "source": [
    "kullanici_yasi = input(\"Yasinizi Giriniz:\")"
   ]
  },
  {
   "cell_type": "code",
   "execution_count": 22,
   "id": "fa2ae808",
   "metadata": {},
   "outputs": [
    {
     "data": {
      "text/plain": [
       "True"
      ]
     },
     "execution_count": 22,
     "metadata": {},
     "output_type": "execute_result"
    }
   ],
   "source": [
    "int(kullanici_yasi) > 15"
   ]
  },
  {
   "cell_type": "code",
   "execution_count": 23,
   "id": "df9d308c",
   "metadata": {},
   "outputs": [
    {
     "data": {
      "text/plain": [
       "True"
      ]
     },
     "execution_count": 23,
     "metadata": {},
     "output_type": "execute_result"
    }
   ],
   "source": [
    "5 > 3"
   ]
  },
  {
   "cell_type": "code",
   "execution_count": 24,
   "id": "39745afb",
   "metadata": {},
   "outputs": [
    {
     "data": {
      "text/plain": [
       "False"
      ]
     },
     "execution_count": 24,
     "metadata": {},
     "output_type": "execute_result"
    }
   ],
   "source": [
    "5 < 3"
   ]
  },
  {
   "cell_type": "code",
   "execution_count": 26,
   "id": "fc285cfb",
   "metadata": {},
   "outputs": [
    {
     "data": {
      "text/plain": [
       "True"
      ]
     },
     "execution_count": 26,
     "metadata": {},
     "output_type": "execute_result"
    }
   ],
   "source": [
    "5 <= 5"
   ]
  },
  {
   "cell_type": "code",
   "execution_count": 27,
   "id": "1160b323",
   "metadata": {},
   "outputs": [
    {
     "data": {
      "text/plain": [
       "True"
      ]
     },
     "execution_count": 27,
     "metadata": {},
     "output_type": "execute_result"
    }
   ],
   "source": [
    "5 == 5"
   ]
  },
  {
   "cell_type": "code",
   "execution_count": 29,
   "id": "e3b6faa8",
   "metadata": {},
   "outputs": [],
   "source": [
    "x = \"mirac\"\n",
    "y = \"Mirac\""
   ]
  },
  {
   "cell_type": "code",
   "execution_count": 30,
   "id": "0056efa8",
   "metadata": {},
   "outputs": [
    {
     "data": {
      "text/plain": [
       "False"
      ]
     },
     "execution_count": 30,
     "metadata": {},
     "output_type": "execute_result"
    }
   ],
   "source": [
    "x == y"
   ]
  },
  {
   "cell_type": "code",
   "execution_count": 32,
   "id": "2e8ba365",
   "metadata": {},
   "outputs": [],
   "source": [
    "x = \"mirac\"\n",
    "y = \"mirac\""
   ]
  },
  {
   "cell_type": "code",
   "execution_count": 33,
   "id": "2108622c",
   "metadata": {},
   "outputs": [
    {
     "data": {
      "text/plain": [
       "True"
      ]
     },
     "execution_count": 33,
     "metadata": {},
     "output_type": "execute_result"
    }
   ],
   "source": [
    "x == y"
   ]
  },
  {
   "cell_type": "code",
   "execution_count": 34,
   "id": "83bf18fc",
   "metadata": {},
   "outputs": [
    {
     "data": {
      "text/plain": [
       "True"
      ]
     },
     "execution_count": 34,
     "metadata": {},
     "output_type": "execute_result"
    }
   ],
   "source": [
    "5 != 4"
   ]
  },
  {
   "cell_type": "code",
   "execution_count": 35,
   "id": "256de36b",
   "metadata": {},
   "outputs": [],
   "source": [
    "# ve (and) , veya (or)"
   ]
  },
  {
   "cell_type": "code",
   "execution_count": 37,
   "id": "b529569a",
   "metadata": {},
   "outputs": [
    {
     "data": {
      "text/plain": [
       "True"
      ]
     },
     "execution_count": 37,
     "metadata": {},
     "output_type": "execute_result"
    }
   ],
   "source": [
    "3 > 1 and 3 > 2"
   ]
  },
  {
   "cell_type": "code",
   "execution_count": 38,
   "id": "fa1ff5fa",
   "metadata": {},
   "outputs": [
    {
     "data": {
      "text/plain": [
       "False"
      ]
     },
     "execution_count": 38,
     "metadata": {},
     "output_type": "execute_result"
    }
   ],
   "source": [
    "3 > 1 and 3 < 2"
   ]
  },
  {
   "cell_type": "code",
   "execution_count": 39,
   "id": "5d68f13a",
   "metadata": {},
   "outputs": [
    {
     "data": {
      "text/plain": [
       "True"
      ]
     },
     "execution_count": 39,
     "metadata": {},
     "output_type": "execute_result"
    }
   ],
   "source": [
    "3 > 1 or 3 < 2"
   ]
  },
  {
   "cell_type": "code",
   "execution_count": null,
   "id": "bf46cd6e",
   "metadata": {},
   "outputs": [],
   "source": []
  }
 ],
 "metadata": {
  "kernelspec": {
   "display_name": "Python 3 (ipykernel)",
   "language": "python",
   "name": "python3"
  },
  "language_info": {
   "codemirror_mode": {
    "name": "ipython",
    "version": 3
   },
   "file_extension": ".py",
   "mimetype": "text/x-python",
   "name": "python",
   "nbconvert_exporter": "python",
   "pygments_lexer": "ipython3",
   "version": "3.11.5"
  }
 },
 "nbformat": 4,
 "nbformat_minor": 5
}
