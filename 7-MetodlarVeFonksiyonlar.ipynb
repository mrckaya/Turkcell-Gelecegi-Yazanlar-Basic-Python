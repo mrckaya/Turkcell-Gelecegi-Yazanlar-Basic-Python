{
 "cells": [
  {
   "cell_type": "code",
   "execution_count": 1,
   "id": "c8375369",
   "metadata": {},
   "outputs": [],
   "source": [
    "benim_string = \"miraç kaya\""
   ]
  },
  {
   "cell_type": "code",
   "execution_count": 2,
   "id": "30326fc4",
   "metadata": {},
   "outputs": [
    {
     "data": {
      "text/plain": [
       "'Miraç kaya'"
      ]
     },
     "execution_count": 2,
     "metadata": {},
     "output_type": "execute_result"
    }
   ],
   "source": [
    "benim_string.capitalize()"
   ]
  },
  {
   "cell_type": "code",
   "execution_count": 3,
   "id": "9b93df8b",
   "metadata": {},
   "outputs": [
    {
     "data": {
      "text/plain": [
       "'miraç kaya'"
      ]
     },
     "execution_count": 3,
     "metadata": {},
     "output_type": "execute_result"
    }
   ],
   "source": [
    "benim_string"
   ]
  },
  {
   "cell_type": "code",
   "execution_count": 4,
   "id": "d3c78ba6",
   "metadata": {},
   "outputs": [],
   "source": [
    "buyuk_harf = benim_string.upper()"
   ]
  },
  {
   "cell_type": "code",
   "execution_count": 5,
   "id": "cbad4b8f",
   "metadata": {},
   "outputs": [
    {
     "data": {
      "text/plain": [
       "'MIRAÇ KAYA'"
      ]
     },
     "execution_count": 5,
     "metadata": {},
     "output_type": "execute_result"
    }
   ],
   "source": [
    "buyuk_harf"
   ]
  },
  {
   "cell_type": "code",
   "execution_count": 6,
   "id": "51876cf3",
   "metadata": {},
   "outputs": [
    {
     "name": "stdout",
     "output_type": "stream",
     "text": [
      "Help on built-in function upper:\n",
      "\n",
      "upper() method of builtins.str instance\n",
      "    Return a copy of the string converted to uppercase.\n",
      "\n"
     ]
    }
   ],
   "source": [
    "help(benim_string.upper)"
   ]
  },
  {
   "cell_type": "code",
   "execution_count": 7,
   "id": "2966ab86",
   "metadata": {},
   "outputs": [],
   "source": [
    "#fonksiyon"
   ]
  },
  {
   "cell_type": "code",
   "execution_count": 8,
   "id": "f1de15fc",
   "metadata": {},
   "outputs": [],
   "source": [
    "def enBasitFonksiyon():\n",
    "    print(\"en basit fonksiyonum çalıştırıldı\")"
   ]
  },
  {
   "cell_type": "code",
   "execution_count": 9,
   "id": "cc29b85b",
   "metadata": {},
   "outputs": [
    {
     "name": "stdout",
     "output_type": "stream",
     "text": [
      "en basit fonksiyonum çalıştırıldı\n"
     ]
    }
   ],
   "source": [
    "enBasitFonksiyon()"
   ]
  },
  {
   "cell_type": "code",
   "execution_count": 10,
   "id": "11bebc15",
   "metadata": {},
   "outputs": [],
   "source": [
    "def birazDahaZorFonksiyon():\n",
    "    x = 5\n",
    "    x = x + 1\n",
    "    print(f\"x'in güncel değeri: {x}\")"
   ]
  },
  {
   "cell_type": "code",
   "execution_count": 11,
   "id": "ff32e4ff",
   "metadata": {},
   "outputs": [
    {
     "name": "stdout",
     "output_type": "stream",
     "text": [
      "x'in güncel değeri: 6\n"
     ]
    }
   ],
   "source": [
    "birazDahaZorFonksiyon()"
   ]
  },
  {
   "cell_type": "code",
   "execution_count": 12,
   "id": "e80dde52",
   "metadata": {},
   "outputs": [],
   "source": [
    "#input & return"
   ]
  },
  {
   "cell_type": "code",
   "execution_count": 17,
   "id": "f0fab483",
   "metadata": {},
   "outputs": [],
   "source": [
    "def merhabaSoyle(yazdirilacak_isim):\n",
    "    print(f\"merhaba {yazdirilacak_isim}\")    "
   ]
  },
  {
   "cell_type": "code",
   "execution_count": 18,
   "id": "b0a1d873",
   "metadata": {},
   "outputs": [
    {
     "name": "stdout",
     "output_type": "stream",
     "text": [
      "merhaba Miraç\n"
     ]
    }
   ],
   "source": [
    "merhabaSoyle(\"Miraç\")"
   ]
  },
  {
   "cell_type": "code",
   "execution_count": 19,
   "id": "89f5e84f",
   "metadata": {},
   "outputs": [
    {
     "name": "stdout",
     "output_type": "stream",
     "text": [
      "isminizi giriniz: Miraç\n",
      "merhaba Miraç\n"
     ]
    }
   ],
   "source": [
    "isim = input(\"isminizi giriniz: \")\n",
    "merhabaSoyle(isim)"
   ]
  },
  {
   "cell_type": "code",
   "execution_count": 21,
   "id": "a53da79d",
   "metadata": {},
   "outputs": [],
   "source": [
    "def alternatifMerhaba(isim = \"python\"):\n",
    "    print(f\"merhaba {isim}\")"
   ]
  },
  {
   "cell_type": "code",
   "execution_count": 22,
   "id": "2f46db8c",
   "metadata": {},
   "outputs": [
    {
     "name": "stdout",
     "output_type": "stream",
     "text": [
      "merhaba python\n"
     ]
    }
   ],
   "source": [
    "alternatifMerhaba()"
   ]
  },
  {
   "cell_type": "code",
   "execution_count": 23,
   "id": "50f567e4",
   "metadata": {},
   "outputs": [
    {
     "name": "stdout",
     "output_type": "stream",
     "text": [
      "merhaba Miraç\n"
     ]
    }
   ],
   "source": [
    "alternatifMerhaba(\"Miraç\")"
   ]
  },
  {
   "cell_type": "code",
   "execution_count": 32,
   "id": "36a529da",
   "metadata": {},
   "outputs": [],
   "source": [
    "def toplama(num1,num2):\n",
    "    sonuc = num1 + num2\n",
    "    print(sonuc)"
   ]
  },
  {
   "cell_type": "code",
   "execution_count": 33,
   "id": "b637389d",
   "metadata": {},
   "outputs": [
    {
     "name": "stdout",
     "output_type": "stream",
     "text": [
      "300\n"
     ]
    }
   ],
   "source": [
    "toplama(100,200)"
   ]
  },
  {
   "cell_type": "code",
   "execution_count": 37,
   "id": "60c56ff8",
   "metadata": {},
   "outputs": [],
   "source": [
    "def ucluToplama(num1,num2,num3):\n",
    "    print(num1+num2+num3)    "
   ]
  },
  {
   "cell_type": "code",
   "execution_count": 38,
   "id": "bdcf3e1a",
   "metadata": {},
   "outputs": [
    {
     "name": "stdout",
     "output_type": "stream",
     "text": [
      "60\n"
     ]
    }
   ],
   "source": [
    "ucluToplama(10,20,30)"
   ]
  },
  {
   "cell_type": "code",
   "execution_count": 39,
   "id": "cf42bb10",
   "metadata": {},
   "outputs": [
    {
     "name": "stdout",
     "output_type": "stream",
     "text": [
      "30\n"
     ]
    }
   ],
   "source": [
    "sonuc = ucluToplama(10,10,10)"
   ]
  },
  {
   "cell_type": "code",
   "execution_count": 40,
   "id": "182a8942",
   "metadata": {},
   "outputs": [],
   "source": [
    "sonuc"
   ]
  },
  {
   "cell_type": "code",
   "execution_count": 41,
   "id": "73992b0f",
   "metadata": {},
   "outputs": [
    {
     "name": "stdout",
     "output_type": "stream",
     "text": [
      "None\n"
     ]
    }
   ],
   "source": [
    "print(sonuc)"
   ]
  },
  {
   "cell_type": "code",
   "execution_count": 42,
   "id": "a2f91777",
   "metadata": {},
   "outputs": [
    {
     "data": {
      "text/plain": [
       "NoneType"
      ]
     },
     "execution_count": 42,
     "metadata": {},
     "output_type": "execute_result"
    }
   ],
   "source": [
    "type(sonuc)"
   ]
  },
  {
   "cell_type": "code",
   "execution_count": 43,
   "id": "e280aef6",
   "metadata": {},
   "outputs": [],
   "source": [
    "x = None"
   ]
  },
  {
   "cell_type": "code",
   "execution_count": 44,
   "id": "92f2e2b0",
   "metadata": {},
   "outputs": [],
   "source": [
    "x"
   ]
  },
  {
   "cell_type": "code",
   "execution_count": 45,
   "id": "a0a6f874",
   "metadata": {},
   "outputs": [
    {
     "data": {
      "text/plain": [
       "NoneType"
      ]
     },
     "execution_count": 45,
     "metadata": {},
     "output_type": "execute_result"
    }
   ],
   "source": [
    "type(x)"
   ]
  },
  {
   "cell_type": "code",
   "execution_count": 46,
   "id": "315bf5d1",
   "metadata": {},
   "outputs": [],
   "source": [
    "def degerDondurenToplama(num1,num2):\n",
    "    print(num1+num2)\n",
    "    return num1+num2"
   ]
  },
  {
   "cell_type": "code",
   "execution_count": 47,
   "id": "fc7e57df",
   "metadata": {},
   "outputs": [
    {
     "name": "stdout",
     "output_type": "stream",
     "text": [
      "70\n"
     ]
    }
   ],
   "source": [
    "y = degerDondurenToplama(20,50)"
   ]
  },
  {
   "cell_type": "code",
   "execution_count": 48,
   "id": "f0dc4a04",
   "metadata": {},
   "outputs": [
    {
     "data": {
      "text/plain": [
       "int"
      ]
     },
     "execution_count": 48,
     "metadata": {},
     "output_type": "execute_result"
    }
   ],
   "source": [
    "type(y)"
   ]
  },
  {
   "cell_type": "code",
   "execution_count": 55,
   "id": "dc3b7d13",
   "metadata": {},
   "outputs": [],
   "source": [
    "def stringKontrolFonksiyonu(s):\n",
    "    if s == \"python\":\n",
    "        return \"python kelimesini vermişsiniz\"\n",
    "    elif s == \"ruby\":\n",
    "        return \"ruby kelimesini vermişsiniz\"\n",
    "    else:\n",
    "        return \"python veya ruby kelimesini vermemişsiniz\""
   ]
  },
  {
   "cell_type": "code",
   "execution_count": 57,
   "id": "fba19f01",
   "metadata": {},
   "outputs": [
    {
     "data": {
      "text/plain": [
       "'python kelimesini vermişsiniz'"
      ]
     },
     "execution_count": 57,
     "metadata": {},
     "output_type": "execute_result"
    }
   ],
   "source": [
    "stringKontrolFonksiyonu(\"python\")"
   ]
  },
  {
   "cell_type": "code",
   "execution_count": 58,
   "id": "d1b4f3d3",
   "metadata": {},
   "outputs": [],
   "source": [
    "def degerDonduren(num1,num2):\n",
    "    return num1+num2"
   ]
  },
  {
   "cell_type": "code",
   "execution_count": 59,
   "id": "f4a16f69",
   "metadata": {},
   "outputs": [
    {
     "data": {
      "text/plain": [
       "70"
      ]
     },
     "execution_count": 59,
     "metadata": {},
     "output_type": "execute_result"
    }
   ],
   "source": [
    "degerDonduren(30,40)"
   ]
  },
  {
   "cell_type": "code",
   "execution_count": 60,
   "id": "ac428fde",
   "metadata": {},
   "outputs": [],
   "source": [
    "sonuc = stringKontrolFonksiyonu(\"ruby\")"
   ]
  },
  {
   "cell_type": "code",
   "execution_count": 61,
   "id": "ec257905",
   "metadata": {},
   "outputs": [
    {
     "data": {
      "text/plain": [
       "'ruby kelimesini vermişsiniz'"
      ]
     },
     "execution_count": 61,
     "metadata": {},
     "output_type": "execute_result"
    }
   ],
   "source": [
    "sonuc"
   ]
  },
  {
   "cell_type": "code",
   "execution_count": 62,
   "id": "14e2234b",
   "metadata": {},
   "outputs": [],
   "source": [
    "# args , kwargs"
   ]
  },
  {
   "cell_type": "code",
   "execution_count": 63,
   "id": "147a7852",
   "metadata": {},
   "outputs": [],
   "source": [
    "def sonsuzToplama(*args):\n",
    "    return sum(args)"
   ]
  },
  {
   "cell_type": "code",
   "execution_count": 64,
   "id": "77f4893f",
   "metadata": {},
   "outputs": [
    {
     "data": {
      "text/plain": [
       "150"
      ]
     },
     "execution_count": 64,
     "metadata": {},
     "output_type": "execute_result"
    }
   ],
   "source": [
    "sonsuzToplama(10,20,30,40,50)"
   ]
  },
  {
   "cell_type": "code",
   "execution_count": 65,
   "id": "a90b7060",
   "metadata": {},
   "outputs": [
    {
     "data": {
      "text/plain": [
       "61"
      ]
     },
     "execution_count": 65,
     "metadata": {},
     "output_type": "execute_result"
    }
   ],
   "source": [
    "sonsuzToplama(1,2,45,6,7)"
   ]
  },
  {
   "cell_type": "code",
   "execution_count": 66,
   "id": "24887ae9",
   "metadata": {},
   "outputs": [
    {
     "data": {
      "text/plain": [
       "4"
      ]
     },
     "execution_count": 66,
     "metadata": {},
     "output_type": "execute_result"
    }
   ],
   "source": [
    "sonsuzToplama(-1,5)"
   ]
  },
  {
   "cell_type": "code",
   "execution_count": 67,
   "id": "180963ca",
   "metadata": {},
   "outputs": [],
   "source": [
    "def keyWordFonksiyonu(**kwargs):\n",
    "    return(kwargs)"
   ]
  },
  {
   "cell_type": "code",
   "execution_count": 68,
   "id": "c169a8b4",
   "metadata": {},
   "outputs": [
    {
     "data": {
      "text/plain": [
       "{'muz': 100, 'elma': 200, 'karpuz': 300}"
      ]
     },
     "execution_count": 68,
     "metadata": {},
     "output_type": "execute_result"
    }
   ],
   "source": [
    "keyWordFonksiyonu(muz=100,elma=200,karpuz=300)"
   ]
  },
  {
   "cell_type": "code",
   "execution_count": 69,
   "id": "459f71ca",
   "metadata": {},
   "outputs": [
    {
     "data": {
      "text/plain": [
       "dict"
      ]
     },
     "execution_count": 69,
     "metadata": {},
     "output_type": "execute_result"
    }
   ],
   "source": [
    "type(keyWordFonksiyonu(muz=100,elma=200,karpuz=300))"
   ]
  },
  {
   "cell_type": "code",
   "execution_count": null,
   "id": "88e68a56",
   "metadata": {},
   "outputs": [],
   "source": []
  }
 ],
 "metadata": {
  "kernelspec": {
   "display_name": "Python 3 (ipykernel)",
   "language": "python",
   "name": "python3"
  },
  "language_info": {
   "codemirror_mode": {
    "name": "ipython",
    "version": 3
   },
   "file_extension": ".py",
   "mimetype": "text/x-python",
   "name": "python",
   "nbconvert_exporter": "python",
   "pygments_lexer": "ipython3",
   "version": "3.11.5"
  }
 },
 "nbformat": 4,
 "nbformat_minor": 5
}
