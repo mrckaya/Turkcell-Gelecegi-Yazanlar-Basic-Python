{
 "cells": [
  {
   "cell_type": "code",
   "execution_count": 1,
   "id": "567d049d",
   "metadata": {},
   "outputs": [
    {
     "name": "stdout",
     "output_type": "stream",
     "text": [
      "merhaba python\n"
     ]
    }
   ],
   "source": [
    "print(\"merhaba python\")"
   ]
  },
  {
   "cell_type": "code",
   "execution_count": 2,
   "id": "abdb9f78",
   "metadata": {},
   "outputs": [
    {
     "data": {
      "text/plain": [
       "8"
      ]
     },
     "execution_count": 2,
     "metadata": {},
     "output_type": "execute_result"
    }
   ],
   "source": [
    "3 + 5"
   ]
  },
  {
   "cell_type": "code",
   "execution_count": 3,
   "id": "de41a0f8",
   "metadata": {},
   "outputs": [
    {
     "data": {
      "text/plain": [
       "15"
      ]
     },
     "execution_count": 3,
     "metadata": {},
     "output_type": "execute_result"
    }
   ],
   "source": [
    "3 * 5"
   ]
  },
  {
   "cell_type": "code",
   "execution_count": 4,
   "id": "fe12448f",
   "metadata": {},
   "outputs": [
    {
     "data": {
      "text/plain": [
       "8"
      ]
     },
     "execution_count": 4,
     "metadata": {},
     "output_type": "execute_result"
    }
   ],
   "source": [
    "10 - 2"
   ]
  },
  {
   "cell_type": "code",
   "execution_count": 5,
   "id": "0d1b8d5e",
   "metadata": {},
   "outputs": [
    {
     "data": {
      "text/plain": [
       "5.0"
      ]
     },
     "execution_count": 5,
     "metadata": {},
     "output_type": "execute_result"
    }
   ],
   "source": [
    "10 / 2"
   ]
  },
  {
   "cell_type": "code",
   "execution_count": 6,
   "id": "166e5d20",
   "metadata": {},
   "outputs": [
    {
     "data": {
      "text/plain": [
       "300"
      ]
     },
     "execution_count": 6,
     "metadata": {},
     "output_type": "execute_result"
    }
   ],
   "source": [
    "3 * 5 * 10 * 2"
   ]
  },
  {
   "cell_type": "code",
   "execution_count": 7,
   "id": "5cdef913",
   "metadata": {},
   "outputs": [
    {
     "data": {
      "text/plain": [
       "243"
      ]
     },
     "execution_count": 7,
     "metadata": {},
     "output_type": "execute_result"
    }
   ],
   "source": [
    "3 * 3 * 3 * 3 * 3"
   ]
  },
  {
   "cell_type": "code",
   "execution_count": 8,
   "id": "0a15653b",
   "metadata": {},
   "outputs": [
    {
     "data": {
      "text/plain": [
       "243"
      ]
     },
     "execution_count": 8,
     "metadata": {},
     "output_type": "execute_result"
    }
   ],
   "source": [
    "3 ** 5"
   ]
  },
  {
   "cell_type": "code",
   "execution_count": 9,
   "id": "49985206",
   "metadata": {},
   "outputs": [
    {
     "data": {
      "text/plain": [
       "59049"
      ]
     },
     "execution_count": 9,
     "metadata": {},
     "output_type": "execute_result"
    }
   ],
   "source": [
    "3 ** 10"
   ]
  },
  {
   "cell_type": "code",
   "execution_count": 10,
   "id": "0bd2a4be",
   "metadata": {},
   "outputs": [
    {
     "data": {
      "text/plain": [
       "220"
      ]
     },
     "execution_count": 10,
     "metadata": {},
     "output_type": "execute_result"
    }
   ],
   "source": [
    "22 * 10"
   ]
  },
  {
   "cell_type": "code",
   "execution_count": 12,
   "id": "9a1083bf",
   "metadata": {},
   "outputs": [],
   "source": [
    "kullanici_yasi = 34"
   ]
  },
  {
   "cell_type": "code",
   "execution_count": 13,
   "id": "08b0efe4",
   "metadata": {},
   "outputs": [
    {
     "data": {
      "text/plain": [
       "340"
      ]
     },
     "execution_count": 13,
     "metadata": {},
     "output_type": "execute_result"
    }
   ],
   "source": [
    "kullanici_yasi * 10"
   ]
  },
  {
   "cell_type": "code",
   "execution_count": 14,
   "id": "83ba9a04",
   "metadata": {},
   "outputs": [
    {
     "data": {
      "text/plain": [
       "34"
      ]
     },
     "execution_count": 14,
     "metadata": {},
     "output_type": "execute_result"
    }
   ],
   "source": [
    "kullanici_yasi"
   ]
  },
  {
   "cell_type": "code",
   "execution_count": 15,
   "id": "d6881359",
   "metadata": {},
   "outputs": [
    {
     "data": {
      "text/plain": [
       "17.0"
      ]
     },
     "execution_count": 15,
     "metadata": {},
     "output_type": "execute_result"
    }
   ],
   "source": [
    "kullanici_yasi / 2"
   ]
  },
  {
   "cell_type": "code",
   "execution_count": 16,
   "id": "48fd8fff",
   "metadata": {},
   "outputs": [],
   "source": [
    "kullanici_yasi = 35"
   ]
  },
  {
   "cell_type": "code",
   "execution_count": 17,
   "id": "ebe1a4b3",
   "metadata": {},
   "outputs": [
    {
     "data": {
      "text/plain": [
       "70"
      ]
     },
     "execution_count": 17,
     "metadata": {},
     "output_type": "execute_result"
    }
   ],
   "source": [
    "kullanici_yasi * 2"
   ]
  },
  {
   "cell_type": "code",
   "execution_count": 18,
   "id": "cb2401bf",
   "metadata": {},
   "outputs": [],
   "source": [
    "benim_sayim = 20"
   ]
  },
  {
   "cell_type": "code",
   "execution_count": 19,
   "id": "840c96dc",
   "metadata": {},
   "outputs": [
    {
     "data": {
      "text/plain": [
       "10.0"
      ]
     },
     "execution_count": 19,
     "metadata": {},
     "output_type": "execute_result"
    }
   ],
   "source": [
    "benim_sayim / 2"
   ]
  },
  {
   "cell_type": "code",
   "execution_count": 20,
   "id": "4ed52858",
   "metadata": {},
   "outputs": [
    {
     "data": {
      "text/plain": [
       "62.800000000000004"
      ]
     },
     "execution_count": 20,
     "metadata": {},
     "output_type": "execute_result"
    }
   ],
   "source": [
    "2 * 3.14 * 10"
   ]
  },
  {
   "cell_type": "code",
   "execution_count": 21,
   "id": "4ddb6c60",
   "metadata": {},
   "outputs": [
    {
     "data": {
      "text/plain": [
       "62.800000000000004"
      ]
     },
     "execution_count": 21,
     "metadata": {},
     "output_type": "execute_result"
    }
   ],
   "source": [
    "yari_cap = 10\n",
    "2 * 3.14 * yari_cap"
   ]
  },
  {
   "cell_type": "code",
   "execution_count": 22,
   "id": "be28af6d",
   "metadata": {},
   "outputs": [],
   "source": [
    "dairenin_cevresi = 2 * 3.14 * yari_cap"
   ]
  },
  {
   "cell_type": "code",
   "execution_count": 23,
   "id": "7dc28399",
   "metadata": {},
   "outputs": [
    {
     "data": {
      "text/plain": [
       "62.800000000000004"
      ]
     },
     "execution_count": 23,
     "metadata": {},
     "output_type": "execute_result"
    }
   ],
   "source": [
    "dairenin_cevresi"
   ]
  },
  {
   "cell_type": "code",
   "execution_count": 24,
   "id": "5fbddba2",
   "metadata": {},
   "outputs": [],
   "source": [
    "# Veri Tipleri"
   ]
  },
  {
   "cell_type": "code",
   "execution_count": 25,
   "id": "5f9c5cd6",
   "metadata": {},
   "outputs": [],
   "source": [
    "x = 10"
   ]
  },
  {
   "cell_type": "code",
   "execution_count": 26,
   "id": "3b5be767",
   "metadata": {},
   "outputs": [],
   "source": [
    "y = 20"
   ]
  },
  {
   "cell_type": "code",
   "execution_count": 27,
   "id": "c01484e1",
   "metadata": {},
   "outputs": [
    {
     "data": {
      "text/plain": [
       "int"
      ]
     },
     "execution_count": 27,
     "metadata": {},
     "output_type": "execute_result"
    }
   ],
   "source": [
    "type(x)"
   ]
  },
  {
   "cell_type": "code",
   "execution_count": 28,
   "id": "fa144e3e",
   "metadata": {},
   "outputs": [
    {
     "data": {
      "text/plain": [
       "int"
      ]
     },
     "execution_count": 28,
     "metadata": {},
     "output_type": "execute_result"
    }
   ],
   "source": [
    "type(y)"
   ]
  },
  {
   "cell_type": "code",
   "execution_count": 33,
   "id": "6b7adf3c",
   "metadata": {},
   "outputs": [
    {
     "data": {
      "text/plain": [
       "0.5"
      ]
     },
     "execution_count": 33,
     "metadata": {},
     "output_type": "execute_result"
    }
   ],
   "source": [
    "x / y"
   ]
  },
  {
   "cell_type": "code",
   "execution_count": 34,
   "id": "560afbd4",
   "metadata": {},
   "outputs": [],
   "source": [
    "sonuc = x / y"
   ]
  },
  {
   "cell_type": "code",
   "execution_count": 35,
   "id": "1b4a7f2b",
   "metadata": {},
   "outputs": [
    {
     "data": {
      "text/plain": [
       "float"
      ]
     },
     "execution_count": 35,
     "metadata": {},
     "output_type": "execute_result"
    }
   ],
   "source": [
    "type(sonuc)"
   ]
  },
  {
   "cell_type": "code",
   "execution_count": 36,
   "id": "dd291a2f",
   "metadata": {},
   "outputs": [],
   "source": [
    "buyuk_sayi = 1000000"
   ]
  },
  {
   "cell_type": "code",
   "execution_count": 37,
   "id": "412553c3",
   "metadata": {},
   "outputs": [],
   "source": [
    "ondalik_cok = 12.324324343545"
   ]
  },
  {
   "cell_type": "code",
   "execution_count": 38,
   "id": "08c0630a",
   "metadata": {},
   "outputs": [],
   "source": [
    "pi = 3.14"
   ]
  },
  {
   "cell_type": "code",
   "execution_count": 39,
   "id": "38a0c4a3",
   "metadata": {},
   "outputs": [
    {
     "data": {
      "text/plain": [
       "float"
      ]
     },
     "execution_count": 39,
     "metadata": {},
     "output_type": "execute_result"
    }
   ],
   "source": [
    "type(pi)"
   ]
  },
  {
   "cell_type": "code",
   "execution_count": 40,
   "id": "607ac192",
   "metadata": {},
   "outputs": [],
   "source": [
    "yari_cap = 10"
   ]
  },
  {
   "cell_type": "code",
   "execution_count": 41,
   "id": "34c1d145",
   "metadata": {},
   "outputs": [],
   "source": [
    "cevre = yari_cap * pi * 2"
   ]
  },
  {
   "cell_type": "code",
   "execution_count": 42,
   "id": "898c7ff0",
   "metadata": {},
   "outputs": [
    {
     "data": {
      "text/plain": [
       "62.800000000000004"
      ]
     },
     "execution_count": 42,
     "metadata": {},
     "output_type": "execute_result"
    }
   ],
   "source": [
    "cevre"
   ]
  },
  {
   "cell_type": "code",
   "execution_count": 43,
   "id": "0e5278f6",
   "metadata": {},
   "outputs": [
    {
     "data": {
      "text/plain": [
       "14.0"
      ]
     },
     "execution_count": 43,
     "metadata": {},
     "output_type": "execute_result"
    }
   ],
   "source": [
    "10 * 1.4"
   ]
  },
  {
   "cell_type": "code",
   "execution_count": 44,
   "id": "a6dd6b59",
   "metadata": {},
   "outputs": [],
   "source": [
    "sonuc = 10 * 1.4"
   ]
  },
  {
   "cell_type": "code",
   "execution_count": 45,
   "id": "69c001c2",
   "metadata": {},
   "outputs": [
    {
     "data": {
      "text/plain": [
       "float"
      ]
     },
     "execution_count": 45,
     "metadata": {},
     "output_type": "execute_result"
    }
   ],
   "source": [
    "type(sonuc)"
   ]
  },
  {
   "cell_type": "code",
   "execution_count": 46,
   "id": "5587062d",
   "metadata": {},
   "outputs": [
    {
     "data": {
      "text/plain": [
       "2.5"
      ]
     },
     "execution_count": 46,
     "metadata": {},
     "output_type": "execute_result"
    }
   ],
   "source": [
    "5 / 2"
   ]
  },
  {
   "cell_type": "code",
   "execution_count": 47,
   "id": "a9bde250",
   "metadata": {},
   "outputs": [
    {
     "data": {
      "text/plain": [
       "1.0"
      ]
     },
     "execution_count": 47,
     "metadata": {},
     "output_type": "execute_result"
    }
   ],
   "source": [
    "5 / 5"
   ]
  },
  {
   "cell_type": "code",
   "execution_count": 48,
   "id": "3faa6bd0",
   "metadata": {},
   "outputs": [
    {
     "data": {
      "text/plain": [
       "200"
      ]
     },
     "execution_count": 48,
     "metadata": {},
     "output_type": "execute_result"
    }
   ],
   "source": [
    "10 * 20"
   ]
  },
  {
   "cell_type": "code",
   "execution_count": 49,
   "id": "a1b079d0",
   "metadata": {},
   "outputs": [
    {
     "data": {
      "text/plain": [
       "1"
      ]
     },
     "execution_count": 49,
     "metadata": {},
     "output_type": "execute_result"
    }
   ],
   "source": [
    "10 % 3 "
   ]
  },
  {
   "cell_type": "code",
   "execution_count": 50,
   "id": "c3e854ec",
   "metadata": {},
   "outputs": [
    {
     "data": {
      "text/plain": [
       "0"
      ]
     },
     "execution_count": 50,
     "metadata": {},
     "output_type": "execute_result"
    }
   ],
   "source": [
    "10 % 2"
   ]
  },
  {
   "cell_type": "code",
   "execution_count": 51,
   "id": "61f50d8e",
   "metadata": {},
   "outputs": [
    {
     "data": {
      "text/plain": [
       "2"
      ]
     },
     "execution_count": 51,
     "metadata": {},
     "output_type": "execute_result"
    }
   ],
   "source": [
    "10 % 4"
   ]
  },
  {
   "cell_type": "code",
   "execution_count": 60,
   "id": "9529234e",
   "metadata": {},
   "outputs": [],
   "source": [
    "kullanici_yasi = 34"
   ]
  },
  {
   "cell_type": "code",
   "execution_count": 61,
   "id": "e1298e95",
   "metadata": {},
   "outputs": [
    {
     "data": {
      "text/plain": [
       "20.4"
      ]
     },
     "execution_count": 61,
     "metadata": {},
     "output_type": "execute_result"
    }
   ],
   "source": [
    "kullanici_yasi * 3 / 5"
   ]
  },
  {
   "cell_type": "code",
   "execution_count": 62,
   "id": "3175b7d7",
   "metadata": {},
   "outputs": [
    {
     "name": "stdout",
     "output_type": "stream",
     "text": [
      "lütfen yasinizi giriniz: 34\n"
     ]
    }
   ],
   "source": [
    "kullanici_yasi = input(\"lütfen yasinizi giriniz: \")"
   ]
  },
  {
   "cell_type": "code",
   "execution_count": 63,
   "id": "0251fe64",
   "metadata": {},
   "outputs": [
    {
     "data": {
      "text/plain": [
       "'343434'"
      ]
     },
     "execution_count": 63,
     "metadata": {},
     "output_type": "execute_result"
    }
   ],
   "source": [
    "kullanici_yasi * 3"
   ]
  },
  {
   "cell_type": "code",
   "execution_count": 64,
   "id": "60449f62",
   "metadata": {},
   "outputs": [
    {
     "data": {
      "text/plain": [
       "102"
      ]
     },
     "execution_count": 64,
     "metadata": {},
     "output_type": "execute_result"
    }
   ],
   "source": [
    "34 * 3"
   ]
  },
  {
   "cell_type": "code",
   "execution_count": 65,
   "id": "f4025fa2",
   "metadata": {},
   "outputs": [
    {
     "data": {
      "text/plain": [
       "str"
      ]
     },
     "execution_count": 65,
     "metadata": {},
     "output_type": "execute_result"
    }
   ],
   "source": [
    "type(kullanici_yasi)"
   ]
  },
  {
   "cell_type": "code",
   "execution_count": 66,
   "id": "1b21f236",
   "metadata": {},
   "outputs": [],
   "source": [
    "#string"
   ]
  },
  {
   "cell_type": "code",
   "execution_count": 67,
   "id": "9571ef03",
   "metadata": {},
   "outputs": [],
   "source": [
    "x = \"mirac kaya\""
   ]
  },
  {
   "cell_type": "code",
   "execution_count": 68,
   "id": "7fba2c41",
   "metadata": {},
   "outputs": [
    {
     "data": {
      "text/plain": [
       "str"
      ]
     },
     "execution_count": 68,
     "metadata": {},
     "output_type": "execute_result"
    }
   ],
   "source": [
    "type(x)"
   ]
  },
  {
   "cell_type": "code",
   "execution_count": 70,
   "id": "19e5eefc",
   "metadata": {},
   "outputs": [
    {
     "data": {
      "text/plain": [
       "'mirac kayamirac kayamirac kaya'"
      ]
     },
     "execution_count": 70,
     "metadata": {},
     "output_type": "execute_result"
    }
   ],
   "source": [
    "x * 3"
   ]
  },
  {
   "cell_type": "code",
   "execution_count": 71,
   "id": "3788160e",
   "metadata": {},
   "outputs": [],
   "source": [
    "x = 5"
   ]
  },
  {
   "cell_type": "code",
   "execution_count": 72,
   "id": "93116650",
   "metadata": {},
   "outputs": [
    {
     "data": {
      "text/plain": [
       "int"
      ]
     },
     "execution_count": 72,
     "metadata": {},
     "output_type": "execute_result"
    }
   ],
   "source": [
    "type(x)"
   ]
  },
  {
   "cell_type": "code",
   "execution_count": 73,
   "id": "b05e6169",
   "metadata": {},
   "outputs": [],
   "source": [
    "x = \"merhaba\""
   ]
  },
  {
   "cell_type": "code",
   "execution_count": 74,
   "id": "dd2a70a7",
   "metadata": {},
   "outputs": [
    {
     "data": {
      "text/plain": [
       "str"
      ]
     },
     "execution_count": 74,
     "metadata": {},
     "output_type": "execute_result"
    }
   ],
   "source": [
    "type(x)"
   ]
  },
  {
   "cell_type": "code",
   "execution_count": 75,
   "id": "faf26258",
   "metadata": {},
   "outputs": [
    {
     "data": {
      "text/plain": [
       "'Merhaba'"
      ]
     },
     "execution_count": 75,
     "metadata": {},
     "output_type": "execute_result"
    }
   ],
   "source": [
    "x.capitalize()"
   ]
  },
  {
   "cell_type": "code",
   "execution_count": 78,
   "id": "cb63604e",
   "metadata": {},
   "outputs": [
    {
     "data": {
      "text/plain": [
       "True"
      ]
     },
     "execution_count": 78,
     "metadata": {},
     "output_type": "execute_result"
    }
   ],
   "source": [
    "kullanici_yasi.endswith(\"4\")"
   ]
  },
  {
   "cell_type": "code",
   "execution_count": 79,
   "id": "fdd22010",
   "metadata": {},
   "outputs": [],
   "source": [
    "benim_string = \"mirac kaya\""
   ]
  },
  {
   "cell_type": "code",
   "execution_count": 82,
   "id": "9f7ecf56",
   "metadata": {},
   "outputs": [
    {
     "data": {
      "text/plain": [
       "'MIRAC KAYA'"
      ]
     },
     "execution_count": 82,
     "metadata": {},
     "output_type": "execute_result"
    }
   ],
   "source": [
    "benim_string.upper()"
   ]
  },
  {
   "cell_type": "code",
   "execution_count": 83,
   "id": "113c9308",
   "metadata": {},
   "outputs": [],
   "source": [
    "y = 50"
   ]
  },
  {
   "cell_type": "code",
   "execution_count": 84,
   "id": "9ca8467e",
   "metadata": {},
   "outputs": [
    {
     "data": {
      "text/plain": [
       "int"
      ]
     },
     "execution_count": 84,
     "metadata": {},
     "output_type": "execute_result"
    }
   ],
   "source": [
    "type(y)"
   ]
  },
  {
   "cell_type": "code",
   "execution_count": 85,
   "id": "8308426d",
   "metadata": {},
   "outputs": [],
   "source": [
    "baska_string = 'örnek'"
   ]
  },
  {
   "cell_type": "code",
   "execution_count": 86,
   "id": "a73035b5",
   "metadata": {},
   "outputs": [
    {
     "data": {
      "text/plain": [
       "'örnek'"
      ]
     },
     "execution_count": 86,
     "metadata": {},
     "output_type": "execute_result"
    }
   ],
   "source": [
    "baska_string"
   ]
  },
  {
   "cell_type": "code",
   "execution_count": 87,
   "id": "49ead6e9",
   "metadata": {},
   "outputs": [],
   "source": [
    "diger_string = \"mirac'ın restoranı\""
   ]
  },
  {
   "cell_type": "code",
   "execution_count": 89,
   "id": "162850ac",
   "metadata": {},
   "outputs": [
    {
     "name": "stdout",
     "output_type": "stream",
     "text": [
      "yaşınızı giriniz: 34\n"
     ]
    }
   ],
   "source": [
    "kullanici_yasi = input(\"yaşınızı giriniz: \")"
   ]
  },
  {
   "cell_type": "code",
   "execution_count": 90,
   "id": "4c7f7324",
   "metadata": {},
   "outputs": [
    {
     "data": {
      "text/plain": [
       "str"
      ]
     },
     "execution_count": 90,
     "metadata": {},
     "output_type": "execute_result"
    }
   ],
   "source": [
    "type(kullanici_yasi)"
   ]
  },
  {
   "cell_type": "code",
   "execution_count": 91,
   "id": "27d91ee9",
   "metadata": {},
   "outputs": [],
   "source": [
    "kullanici_yasi_int = int(kullanici_yasi)"
   ]
  },
  {
   "cell_type": "code",
   "execution_count": 92,
   "id": "9ef23b2e",
   "metadata": {},
   "outputs": [
    {
     "data": {
      "text/plain": [
       "102"
      ]
     },
     "execution_count": 92,
     "metadata": {},
     "output_type": "execute_result"
    }
   ],
   "source": [
    "kullanici_yasi_int * 3"
   ]
  },
  {
   "cell_type": "code",
   "execution_count": 93,
   "id": "7dc9c2f6",
   "metadata": {},
   "outputs": [],
   "source": [
    "benim_string = \"3.14\""
   ]
  },
  {
   "cell_type": "code",
   "execution_count": 94,
   "id": "90752931",
   "metadata": {},
   "outputs": [],
   "source": [
    "pi_float = float(benim_string)"
   ]
  },
  {
   "cell_type": "code",
   "execution_count": 95,
   "id": "9b7843bf",
   "metadata": {},
   "outputs": [
    {
     "data": {
      "text/plain": [
       "float"
      ]
     },
     "execution_count": 95,
     "metadata": {},
     "output_type": "execute_result"
    }
   ],
   "source": [
    "type(pi_float)"
   ]
  },
  {
   "cell_type": "code",
   "execution_count": 96,
   "id": "b1d88e42",
   "metadata": {},
   "outputs": [],
   "source": [
    "x = 50"
   ]
  },
  {
   "cell_type": "code",
   "execution_count": 97,
   "id": "31257094",
   "metadata": {},
   "outputs": [],
   "source": [
    "x_string_cevirme = str(x)"
   ]
  },
  {
   "cell_type": "code",
   "execution_count": 98,
   "id": "aa9c1180",
   "metadata": {},
   "outputs": [
    {
     "data": {
      "text/plain": [
       "'50'"
      ]
     },
     "execution_count": 98,
     "metadata": {},
     "output_type": "execute_result"
    }
   ],
   "source": [
    "x_string_cevirme"
   ]
  },
  {
   "cell_type": "code",
   "execution_count": 99,
   "id": "c80d0849",
   "metadata": {},
   "outputs": [],
   "source": [
    "benim_adim = \"miraç kaya\""
   ]
  },
  {
   "cell_type": "code",
   "execution_count": 100,
   "id": "f2098313",
   "metadata": {},
   "outputs": [
    {
     "data": {
      "text/plain": [
       "10"
      ]
     },
     "execution_count": 100,
     "metadata": {},
     "output_type": "execute_result"
    }
   ],
   "source": [
    "len(benim_adim)"
   ]
  },
  {
   "cell_type": "code",
   "execution_count": 101,
   "id": "d4a59b52",
   "metadata": {},
   "outputs": [],
   "source": [
    "benim_isim = \"miraç\""
   ]
  },
  {
   "cell_type": "code",
   "execution_count": 102,
   "id": "1054f761",
   "metadata": {},
   "outputs": [],
   "source": [
    "benim_soyisim = \"kaya\""
   ]
  },
  {
   "cell_type": "code",
   "execution_count": 103,
   "id": "6b285ddd",
   "metadata": {},
   "outputs": [
    {
     "data": {
      "text/plain": [
       "'miraçkaya'"
      ]
     },
     "execution_count": 103,
     "metadata": {},
     "output_type": "execute_result"
    }
   ],
   "source": [
    "benim_isim + benim_soyisim"
   ]
  },
  {
   "cell_type": "code",
   "execution_count": 104,
   "id": "9a2ec9c3",
   "metadata": {},
   "outputs": [],
   "source": [
    "#string'lerde index"
   ]
  },
  {
   "cell_type": "code",
   "execution_count": 105,
   "id": "f10fef33",
   "metadata": {},
   "outputs": [],
   "source": [
    "benim_tam_ismim = \"miraç kaya\""
   ]
  },
  {
   "cell_type": "code",
   "execution_count": 106,
   "id": "16a881f6",
   "metadata": {},
   "outputs": [
    {
     "data": {
      "text/plain": [
       "'m'"
      ]
     },
     "execution_count": 106,
     "metadata": {},
     "output_type": "execute_result"
    }
   ],
   "source": [
    "benim_tam_ismim[0]"
   ]
  },
  {
   "cell_type": "code",
   "execution_count": 107,
   "id": "9e427fb4",
   "metadata": {},
   "outputs": [
    {
     "data": {
      "text/plain": [
       "10"
      ]
     },
     "execution_count": 107,
     "metadata": {},
     "output_type": "execute_result"
    }
   ],
   "source": [
    "len(benim_tam_ismim)"
   ]
  },
  {
   "cell_type": "code",
   "execution_count": 108,
   "id": "065812ba",
   "metadata": {},
   "outputs": [
    {
     "data": {
      "text/plain": [
       "'a'"
      ]
     },
     "execution_count": 108,
     "metadata": {},
     "output_type": "execute_result"
    }
   ],
   "source": [
    "benim_tam_ismim[9]"
   ]
  },
  {
   "cell_type": "code",
   "execution_count": 109,
   "id": "bf7546eb",
   "metadata": {},
   "outputs": [
    {
     "data": {
      "text/plain": [
       "'a'"
      ]
     },
     "execution_count": 109,
     "metadata": {},
     "output_type": "execute_result"
    }
   ],
   "source": [
    "benim_tam_ismim[-1]"
   ]
  },
  {
   "cell_type": "code",
   "execution_count": 110,
   "id": "6d1f471b",
   "metadata": {},
   "outputs": [
    {
     "data": {
      "text/plain": [
       "'ma'"
      ]
     },
     "execution_count": 110,
     "metadata": {},
     "output_type": "execute_result"
    }
   ],
   "source": [
    "benim_tam_ismim[0] + benim_tam_ismim[-1]"
   ]
  },
  {
   "cell_type": "code",
   "execution_count": 111,
   "id": "8500c79f",
   "metadata": {},
   "outputs": [],
   "source": [
    "#starting index - stopping index - slicing"
   ]
  },
  {
   "cell_type": "code",
   "execution_count": 112,
   "id": "e3864159",
   "metadata": {},
   "outputs": [],
   "source": [
    "x = \"turkcell geleceği yazanlar\""
   ]
  },
  {
   "cell_type": "code",
   "execution_count": 113,
   "id": "e68ac62e",
   "metadata": {},
   "outputs": [
    {
     "data": {
      "text/plain": [
       "'cell geleceği yazanlar'"
      ]
     },
     "execution_count": 113,
     "metadata": {},
     "output_type": "execute_result"
    }
   ],
   "source": [
    "x[4:]"
   ]
  },
  {
   "cell_type": "code",
   "execution_count": 114,
   "id": "fbb0e1ff",
   "metadata": {},
   "outputs": [
    {
     "data": {
      "text/plain": [
       "'turk'"
      ]
     },
     "execution_count": 114,
     "metadata": {},
     "output_type": "execute_result"
    }
   ],
   "source": [
    "x[:4]"
   ]
  },
  {
   "cell_type": "code",
   "execution_count": 115,
   "id": "bd98e791",
   "metadata": {},
   "outputs": [
    {
     "data": {
      "text/plain": [
       "'geleceği'"
      ]
     },
     "execution_count": 115,
     "metadata": {},
     "output_type": "execute_result"
    }
   ],
   "source": [
    "x[9:17]"
   ]
  },
  {
   "cell_type": "code",
   "execution_count": 116,
   "id": "c25fa70d",
   "metadata": {},
   "outputs": [],
   "source": [
    "#step size"
   ]
  },
  {
   "cell_type": "code",
   "execution_count": 117,
   "id": "7390716d",
   "metadata": {},
   "outputs": [
    {
     "data": {
      "text/plain": [
       "'turkcell geleceği yazanlar'"
      ]
     },
     "execution_count": 117,
     "metadata": {},
     "output_type": "execute_result"
    }
   ],
   "source": [
    "x"
   ]
  },
  {
   "cell_type": "code",
   "execution_count": 119,
   "id": "3c912639",
   "metadata": {},
   "outputs": [
    {
     "data": {
      "text/plain": [
       "'tc eiza'"
      ]
     },
     "execution_count": 119,
     "metadata": {},
     "output_type": "execute_result"
    }
   ],
   "source": [
    "x[::4]"
   ]
  },
  {
   "cell_type": "code",
   "execution_count": 120,
   "id": "1cf2d35e",
   "metadata": {},
   "outputs": [
    {
     "data": {
      "text/plain": [
       "'ralnazay iğeceleg lleckrut'"
      ]
     },
     "execution_count": 120,
     "metadata": {},
     "output_type": "execute_result"
    }
   ],
   "source": [
    "x[::-1]"
   ]
  },
  {
   "cell_type": "code",
   "execution_count": null,
   "id": "26a90e4e",
   "metadata": {},
   "outputs": [],
   "source": []
  }
 ],
 "metadata": {
  "kernelspec": {
   "display_name": "Python 3 (ipykernel)",
   "language": "python",
   "name": "python3"
  },
  "language_info": {
   "codemirror_mode": {
    "name": "ipython",
    "version": 3
   },
   "file_extension": ".py",
   "mimetype": "text/x-python",
   "name": "python",
   "nbconvert_exporter": "python",
   "pygments_lexer": "ipython3",
   "version": "3.11.5"
  }
 },
 "nbformat": 4,
 "nbformat_minor": 5
}
