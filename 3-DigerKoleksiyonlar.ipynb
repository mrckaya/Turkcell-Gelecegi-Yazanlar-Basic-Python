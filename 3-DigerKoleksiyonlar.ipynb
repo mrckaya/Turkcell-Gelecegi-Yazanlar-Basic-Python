{
 "cells": [
  {
   "cell_type": "code",
   "execution_count": 1,
   "id": "b1e1892c",
   "metadata": {},
   "outputs": [],
   "source": [
    "benim_listem = [1,2,3,4]"
   ]
  },
  {
   "cell_type": "code",
   "execution_count": 2,
   "id": "76a46648",
   "metadata": {},
   "outputs": [
    {
     "data": {
      "text/plain": [
       "1"
      ]
     },
     "execution_count": 2,
     "metadata": {},
     "output_type": "execute_result"
    }
   ],
   "source": [
    "benim_listem[0]"
   ]
  },
  {
   "cell_type": "markdown",
   "id": "d2b196cc",
   "metadata": {},
   "source": [
    "Dictionary, Sözlük, key-value pairing (anahtar kelime - değer eşleşmesi)"
   ]
  },
  {
   "cell_type": "code",
   "execution_count": 4,
   "id": "0e8610b7",
   "metadata": {},
   "outputs": [],
   "source": [
    "benim_yemeklerim = [\"elma\", \"armut\", \"karpuz\"]"
   ]
  },
  {
   "cell_type": "code",
   "execution_count": 5,
   "id": "3e18809c",
   "metadata": {},
   "outputs": [],
   "source": [
    "benim_kalorilerim = [100,200,300]"
   ]
  },
  {
   "cell_type": "code",
   "execution_count": 6,
   "id": "5725ff30",
   "metadata": {},
   "outputs": [
    {
     "data": {
      "text/plain": [
       "'armut'"
      ]
     },
     "execution_count": 6,
     "metadata": {},
     "output_type": "execute_result"
    }
   ],
   "source": [
    "benim_yemeklerim[1]"
   ]
  },
  {
   "cell_type": "code",
   "execution_count": 7,
   "id": "320e7514",
   "metadata": {},
   "outputs": [
    {
     "data": {
      "text/plain": [
       "200"
      ]
     },
     "execution_count": 7,
     "metadata": {},
     "output_type": "execute_result"
    }
   ],
   "source": [
    "benim_kalorilerim[1]"
   ]
  },
  {
   "cell_type": "code",
   "execution_count": 9,
   "id": "7503f731",
   "metadata": {},
   "outputs": [],
   "source": [
    "benim_sozluk = {\"anahtarkelime\":\"değer\"}"
   ]
  },
  {
   "cell_type": "code",
   "execution_count": 10,
   "id": "a20ea92e",
   "metadata": {},
   "outputs": [],
   "source": [
    "benim_kalori_yemek_sozlugum = {\"elma\":100,\"armut\":200,\"karpuz\":300}"
   ]
  },
  {
   "cell_type": "code",
   "execution_count": 11,
   "id": "b2175136",
   "metadata": {},
   "outputs": [
    {
     "data": {
      "text/plain": [
       "200"
      ]
     },
     "execution_count": 11,
     "metadata": {},
     "output_type": "execute_result"
    }
   ],
   "source": [
    "benim_kalori_yemek_sozlugum[\"armut\"]"
   ]
  },
  {
   "cell_type": "code",
   "execution_count": 12,
   "id": "4e824b2e",
   "metadata": {},
   "outputs": [
    {
     "data": {
      "text/plain": [
       "dict"
      ]
     },
     "execution_count": 12,
     "metadata": {},
     "output_type": "execute_result"
    }
   ],
   "source": [
    "type(benim_kalori_yemek_sozlugum)"
   ]
  },
  {
   "cell_type": "code",
   "execution_count": 13,
   "id": "1eb4cd37",
   "metadata": {},
   "outputs": [
    {
     "data": {
      "text/plain": [
       "dict_items([('elma', 100), ('armut', 200), ('karpuz', 300)])"
      ]
     },
     "execution_count": 13,
     "metadata": {},
     "output_type": "execute_result"
    }
   ],
   "source": [
    "benim_kalori_yemek_sozlugum.items()"
   ]
  },
  {
   "cell_type": "code",
   "execution_count": 14,
   "id": "2e648dda",
   "metadata": {},
   "outputs": [
    {
     "data": {
      "text/plain": [
       "dict_values([100, 200, 300])"
      ]
     },
     "execution_count": 14,
     "metadata": {},
     "output_type": "execute_result"
    }
   ],
   "source": [
    "benim_kalori_yemek_sozlugum.values()"
   ]
  },
  {
   "cell_type": "code",
   "execution_count": 16,
   "id": "5d8b1c4f",
   "metadata": {},
   "outputs": [
    {
     "data": {
      "text/plain": [
       "dict_keys(['elma', 'armut', 'karpuz'])"
      ]
     },
     "execution_count": 16,
     "metadata": {},
     "output_type": "execute_result"
    }
   ],
   "source": [
    "benim_kalori_yemek_sozlugum.keys()"
   ]
  },
  {
   "cell_type": "code",
   "execution_count": 18,
   "id": "05f59fa5",
   "metadata": {},
   "outputs": [],
   "source": [
    "benim_kalori_yemek_sozlugum[\"uzum\"] = 400"
   ]
  },
  {
   "cell_type": "code",
   "execution_count": 19,
   "id": "7ce7381a",
   "metadata": {},
   "outputs": [
    {
     "data": {
      "text/plain": [
       "{'elma': 100, 'armut': 200, 'karpuz': 300, 'uzum': 400}"
      ]
     },
     "execution_count": 19,
     "metadata": {},
     "output_type": "execute_result"
    }
   ],
   "source": [
    "benim_kalori_yemek_sozlugum"
   ]
  },
  {
   "cell_type": "code",
   "execution_count": 20,
   "id": "38bc5552",
   "metadata": {},
   "outputs": [],
   "source": [
    "benim_kalori_yemek_sozlugum[\"elma\"] = 150"
   ]
  },
  {
   "cell_type": "code",
   "execution_count": 21,
   "id": "ae63dad7",
   "metadata": {},
   "outputs": [
    {
     "data": {
      "text/plain": [
       "{'elma': 150, 'armut': 200, 'karpuz': 300, 'uzum': 400}"
      ]
     },
     "execution_count": 21,
     "metadata": {},
     "output_type": "execute_result"
    }
   ],
   "source": [
    "benim_kalori_yemek_sozlugum"
   ]
  },
  {
   "cell_type": "code",
   "execution_count": 22,
   "id": "5ede8da3",
   "metadata": {},
   "outputs": [],
   "source": [
    "garip_sozluk = {1:\"mirac\",2:\"kaya\"}"
   ]
  },
  {
   "cell_type": "code",
   "execution_count": 23,
   "id": "032f5cea",
   "metadata": {},
   "outputs": [
    {
     "data": {
      "text/plain": [
       "'mirac'"
      ]
     },
     "execution_count": 23,
     "metadata": {},
     "output_type": "execute_result"
    }
   ],
   "source": [
    "garip_sozluk[1]"
   ]
  },
  {
   "cell_type": "code",
   "execution_count": 24,
   "id": "7ce10810",
   "metadata": {},
   "outputs": [],
   "source": [
    "karisik_sozluk = {\"anahtar\":100,20:\"deger\"}"
   ]
  },
  {
   "cell_type": "code",
   "execution_count": 25,
   "id": "7e3c0a03",
   "metadata": {},
   "outputs": [
    {
     "data": {
      "text/plain": [
       "100"
      ]
     },
     "execution_count": 25,
     "metadata": {},
     "output_type": "execute_result"
    }
   ],
   "source": [
    "karisik_sozluk[\"anahtar\"]"
   ]
  },
  {
   "cell_type": "code",
   "execution_count": 26,
   "id": "c69ddb9c",
   "metadata": {},
   "outputs": [
    {
     "data": {
      "text/plain": [
       "'deger'"
      ]
     },
     "execution_count": 26,
     "metadata": {},
     "output_type": "execute_result"
    }
   ],
   "source": [
    "karisik_sozluk[20]"
   ]
  },
  {
   "cell_type": "code",
   "execution_count": 27,
   "id": "85421cb6",
   "metadata": {},
   "outputs": [],
   "source": [
    "listeli_sozluk = {\"anahtar1\":100,\"anahtar2\":[1,2,3,4,5],\"anahtar3\":{\"anahtar25\":25400}}"
   ]
  },
  {
   "cell_type": "code",
   "execution_count": 28,
   "id": "c971153d",
   "metadata": {},
   "outputs": [
    {
     "data": {
      "text/plain": [
       "100"
      ]
     },
     "execution_count": 28,
     "metadata": {},
     "output_type": "execute_result"
    }
   ],
   "source": [
    "listeli_sozluk[\"anahtar1\"]"
   ]
  },
  {
   "cell_type": "code",
   "execution_count": 29,
   "id": "1ad020dc",
   "metadata": {},
   "outputs": [
    {
     "data": {
      "text/plain": [
       "[1, 2, 3, 4, 5]"
      ]
     },
     "execution_count": 29,
     "metadata": {},
     "output_type": "execute_result"
    }
   ],
   "source": [
    "listeli_sozluk[\"anahtar2\"]"
   ]
  },
  {
   "cell_type": "code",
   "execution_count": 30,
   "id": "a54421c1",
   "metadata": {},
   "outputs": [
    {
     "data": {
      "text/plain": [
       "{'anahtar25': 25400}"
      ]
     },
     "execution_count": 30,
     "metadata": {},
     "output_type": "execute_result"
    }
   ],
   "source": [
    "listeli_sozluk[\"anahtar3\"]"
   ]
  },
  {
   "cell_type": "code",
   "execution_count": 31,
   "id": "4291140f",
   "metadata": {},
   "outputs": [],
   "source": [
    "#Set"
   ]
  },
  {
   "cell_type": "code",
   "execution_count": 32,
   "id": "a6b8f70d",
   "metadata": {},
   "outputs": [],
   "source": [
    "liste_ornegi = [1,2,3,4,1,2,3]"
   ]
  },
  {
   "cell_type": "code",
   "execution_count": 33,
   "id": "5009d819",
   "metadata": {},
   "outputs": [
    {
     "data": {
      "text/plain": [
       "[1, 2, 3, 4, 1, 2, 3]"
      ]
     },
     "execution_count": 33,
     "metadata": {},
     "output_type": "execute_result"
    }
   ],
   "source": [
    "liste_ornegi"
   ]
  },
  {
   "cell_type": "code",
   "execution_count": 34,
   "id": "390ce77a",
   "metadata": {},
   "outputs": [
    {
     "data": {
      "text/plain": [
       "list"
      ]
     },
     "execution_count": 34,
     "metadata": {},
     "output_type": "execute_result"
    }
   ],
   "source": [
    "type(liste_ornegi)"
   ]
  },
  {
   "cell_type": "code",
   "execution_count": 35,
   "id": "2e83b803",
   "metadata": {},
   "outputs": [],
   "source": [
    "set_hali = set(liste_ornegi)"
   ]
  },
  {
   "cell_type": "code",
   "execution_count": 36,
   "id": "2f9c487d",
   "metadata": {},
   "outputs": [
    {
     "data": {
      "text/plain": [
       "{1, 2, 3, 4}"
      ]
     },
     "execution_count": 36,
     "metadata": {},
     "output_type": "execute_result"
    }
   ],
   "source": [
    "set_hali"
   ]
  },
  {
   "cell_type": "code",
   "execution_count": 37,
   "id": "fa55859e",
   "metadata": {},
   "outputs": [],
   "source": [
    "benim_setim = {\"a\",\"b\",\"c\",\"a\"}"
   ]
  },
  {
   "cell_type": "code",
   "execution_count": 38,
   "id": "f6996ca1",
   "metadata": {},
   "outputs": [
    {
     "data": {
      "text/plain": [
       "{'a', 'b', 'c'}"
      ]
     },
     "execution_count": 38,
     "metadata": {},
     "output_type": "execute_result"
    }
   ],
   "source": [
    "benim_setim"
   ]
  },
  {
   "cell_type": "code",
   "execution_count": 39,
   "id": "2e14a097",
   "metadata": {},
   "outputs": [],
   "source": [
    "ornek_liste = [1,2,3,4,5,1,2,3,4]"
   ]
  },
  {
   "cell_type": "code",
   "execution_count": 40,
   "id": "10f2d0a7",
   "metadata": {},
   "outputs": [],
   "source": [
    "tekil_set = set(ornek_liste)"
   ]
  },
  {
   "cell_type": "code",
   "execution_count": 41,
   "id": "be961637",
   "metadata": {},
   "outputs": [],
   "source": [
    "tekil_liste = list(tekil_set)"
   ]
  },
  {
   "cell_type": "code",
   "execution_count": 42,
   "id": "c4a91192",
   "metadata": {},
   "outputs": [
    {
     "data": {
      "text/plain": [
       "1"
      ]
     },
     "execution_count": 42,
     "metadata": {},
     "output_type": "execute_result"
    }
   ],
   "source": [
    "tekil_liste[0]"
   ]
  },
  {
   "cell_type": "code",
   "execution_count": 43,
   "id": "df633ae0",
   "metadata": {},
   "outputs": [],
   "source": [
    "bos_liste = []"
   ]
  },
  {
   "cell_type": "code",
   "execution_count": 44,
   "id": "70b32b98",
   "metadata": {},
   "outputs": [
    {
     "data": {
      "text/plain": [
       "list"
      ]
     },
     "execution_count": 44,
     "metadata": {},
     "output_type": "execute_result"
    }
   ],
   "source": [
    "type(bos_liste)"
   ]
  },
  {
   "cell_type": "code",
   "execution_count": 45,
   "id": "44309b56",
   "metadata": {},
   "outputs": [],
   "source": [
    "bos_liste.append(10)\n",
    "bos_liste.append(20)"
   ]
  },
  {
   "cell_type": "code",
   "execution_count": 46,
   "id": "59b63e56",
   "metadata": {},
   "outputs": [
    {
     "data": {
      "text/plain": [
       "[10, 20]"
      ]
     },
     "execution_count": 46,
     "metadata": {},
     "output_type": "execute_result"
    }
   ],
   "source": [
    "bos_liste"
   ]
  },
  {
   "cell_type": "code",
   "execution_count": 49,
   "id": "7149ef56",
   "metadata": {},
   "outputs": [],
   "source": [
    "bos_sozluk = {}"
   ]
  },
  {
   "cell_type": "code",
   "execution_count": 50,
   "id": "1689bd5f",
   "metadata": {},
   "outputs": [
    {
     "data": {
      "text/plain": [
       "dict"
      ]
     },
     "execution_count": 50,
     "metadata": {},
     "output_type": "execute_result"
    }
   ],
   "source": [
    "type(bos_set)"
   ]
  },
  {
   "cell_type": "code",
   "execution_count": 51,
   "id": "214d7e46",
   "metadata": {},
   "outputs": [],
   "source": [
    "bos_set = set()"
   ]
  },
  {
   "cell_type": "code",
   "execution_count": 52,
   "id": "14736eb4",
   "metadata": {},
   "outputs": [
    {
     "data": {
      "text/plain": [
       "set"
      ]
     },
     "execution_count": 52,
     "metadata": {},
     "output_type": "execute_result"
    }
   ],
   "source": [
    "type(bos_set)"
   ]
  },
  {
   "cell_type": "code",
   "execution_count": 53,
   "id": "bc2165b8",
   "metadata": {},
   "outputs": [],
   "source": [
    "bos_set.add(10)\n",
    "bos_set.add(10)\n",
    "bos_set.add(10)\n",
    "bos_set.add(20)"
   ]
  },
  {
   "cell_type": "code",
   "execution_count": 54,
   "id": "ac99f107",
   "metadata": {},
   "outputs": [
    {
     "data": {
      "text/plain": [
       "{10, 20}"
      ]
     },
     "execution_count": 54,
     "metadata": {},
     "output_type": "execute_result"
    }
   ],
   "source": [
    "bos_set"
   ]
  },
  {
   "cell_type": "code",
   "execution_count": 55,
   "id": "52429ebf",
   "metadata": {},
   "outputs": [],
   "source": [
    "diger_sozluk = dict()"
   ]
  },
  {
   "cell_type": "code",
   "execution_count": 56,
   "id": "12d15cff",
   "metadata": {},
   "outputs": [
    {
     "data": {
      "text/plain": [
       "dict"
      ]
     },
     "execution_count": 56,
     "metadata": {},
     "output_type": "execute_result"
    }
   ],
   "source": [
    "type(diger_sozluk)"
   ]
  },
  {
   "cell_type": "code",
   "execution_count": 57,
   "id": "23d69b6d",
   "metadata": {},
   "outputs": [],
   "source": [
    "#tuple"
   ]
  },
  {
   "cell_type": "code",
   "execution_count": 58,
   "id": "56b69d00",
   "metadata": {},
   "outputs": [],
   "source": [
    "normal_liste = [1,2,\"c\",4.5]"
   ]
  },
  {
   "cell_type": "code",
   "execution_count": 59,
   "id": "f151c361",
   "metadata": {},
   "outputs": [
    {
     "data": {
      "text/plain": [
       "2"
      ]
     },
     "execution_count": 59,
     "metadata": {},
     "output_type": "execute_result"
    }
   ],
   "source": [
    "normal_liste[1]"
   ]
  },
  {
   "cell_type": "code",
   "execution_count": 60,
   "id": "4ca7184b",
   "metadata": {},
   "outputs": [],
   "source": [
    "normal_liste.append(5)"
   ]
  },
  {
   "cell_type": "code",
   "execution_count": 61,
   "id": "ed274e57",
   "metadata": {},
   "outputs": [],
   "source": [
    "normal_liste[0] = 100"
   ]
  },
  {
   "cell_type": "code",
   "execution_count": 62,
   "id": "b8641070",
   "metadata": {},
   "outputs": [
    {
     "data": {
      "text/plain": [
       "[100, 2, 'c', 4.5, 5]"
      ]
     },
     "execution_count": 62,
     "metadata": {},
     "output_type": "execute_result"
    }
   ],
   "source": [
    "normal_liste"
   ]
  },
  {
   "cell_type": "code",
   "execution_count": 63,
   "id": "47ace120",
   "metadata": {},
   "outputs": [],
   "source": [
    "benim_tuple = (1,2,\"c\",4.5)"
   ]
  },
  {
   "cell_type": "code",
   "execution_count": 65,
   "id": "04f8efe3",
   "metadata": {},
   "outputs": [
    {
     "data": {
      "text/plain": [
       "tuple"
      ]
     },
     "execution_count": 65,
     "metadata": {},
     "output_type": "execute_result"
    }
   ],
   "source": [
    "type(benim_tuple)"
   ]
  },
  {
   "cell_type": "code",
   "execution_count": 67,
   "id": "1fe7ccc0",
   "metadata": {},
   "outputs": [
    {
     "data": {
      "text/plain": [
       "'c'"
      ]
     },
     "execution_count": 67,
     "metadata": {},
     "output_type": "execute_result"
    }
   ],
   "source": [
    "benim_tuple[2]"
   ]
  },
  {
   "cell_type": "code",
   "execution_count": 68,
   "id": "82ae11f5",
   "metadata": {},
   "outputs": [
    {
     "data": {
      "text/plain": [
       "(1, 2, 'c', 4.5)"
      ]
     },
     "execution_count": 68,
     "metadata": {},
     "output_type": "execute_result"
    }
   ],
   "source": [
    "benim_tuple"
   ]
  },
  {
   "cell_type": "code",
   "execution_count": 69,
   "id": "d7286859",
   "metadata": {},
   "outputs": [],
   "source": [
    "benim_listem = list(benim_tuple)"
   ]
  },
  {
   "cell_type": "code",
   "execution_count": 70,
   "id": "b40e52e3",
   "metadata": {},
   "outputs": [
    {
     "data": {
      "text/plain": [
       "[1, 2, 'c', 4.5]"
      ]
     },
     "execution_count": 70,
     "metadata": {},
     "output_type": "execute_result"
    }
   ],
   "source": [
    "benim_listem"
   ]
  },
  {
   "cell_type": "code",
   "execution_count": 71,
   "id": "89f4990e",
   "metadata": {},
   "outputs": [],
   "source": [
    "benim_listem[0] = 100"
   ]
  },
  {
   "cell_type": "code",
   "execution_count": 72,
   "id": "3b725aa1",
   "metadata": {},
   "outputs": [
    {
     "data": {
      "text/plain": [
       "[100, 2, 'c', 4.5]"
      ]
     },
     "execution_count": 72,
     "metadata": {},
     "output_type": "execute_result"
    }
   ],
   "source": [
    "benim_listem"
   ]
  },
  {
   "cell_type": "code",
   "execution_count": null,
   "id": "c194243b",
   "metadata": {},
   "outputs": [],
   "source": []
  }
 ],
 "metadata": {
  "kernelspec": {
   "display_name": "Python 3 (ipykernel)",
   "language": "python",
   "name": "python3"
  },
  "language_info": {
   "codemirror_mode": {
    "name": "ipython",
    "version": 3
   },
   "file_extension": ".py",
   "mimetype": "text/x-python",
   "name": "python",
   "nbconvert_exporter": "python",
   "pygments_lexer": "ipython3",
   "version": "3.11.5"
  }
 },
 "nbformat": 4,
 "nbformat_minor": 5
}
