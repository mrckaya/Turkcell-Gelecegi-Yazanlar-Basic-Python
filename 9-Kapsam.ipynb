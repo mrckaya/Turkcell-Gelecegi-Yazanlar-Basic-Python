{
 "cells": [
  {
   "cell_type": "code",
   "execution_count": 1,
   "id": "59282ab6",
   "metadata": {},
   "outputs": [],
   "source": [
    "sayi = 30\n",
    "\n",
    "def bolme(num):\n",
    "    sayi = 10\n",
    "    return sayi / num"
   ]
  },
  {
   "cell_type": "code",
   "execution_count": 2,
   "id": "c612ff66",
   "metadata": {},
   "outputs": [
    {
     "data": {
      "text/plain": [
       "5.0"
      ]
     },
     "execution_count": 2,
     "metadata": {},
     "output_type": "execute_result"
    }
   ],
   "source": [
    "bolme(2)"
   ]
  },
  {
   "cell_type": "code",
   "execution_count": 3,
   "id": "09699fa6",
   "metadata": {},
   "outputs": [
    {
     "data": {
      "text/plain": [
       "30"
      ]
     },
     "execution_count": 3,
     "metadata": {},
     "output_type": "execute_result"
    }
   ],
   "source": [
    "sayi"
   ]
  },
  {
   "cell_type": "code",
   "execution_count": 4,
   "id": "982f82d6",
   "metadata": {},
   "outputs": [],
   "source": [
    "#Scope - Kapsam\n",
    "# Local, Enclosing, Global, Built-in"
   ]
  },
  {
   "cell_type": "code",
   "execution_count": 11,
   "id": "534a8045",
   "metadata": {},
   "outputs": [],
   "source": [
    "superkahraman = \"Batman\"\n",
    "#global\n",
    "\n",
    "def ornekFonksiyon():\n",
    "    superkahraman = \"Spiderman\"\n",
    "    #enclosing\n",
    "    \n",
    "    def icFonksiyon():\n",
    "        superkahraman = \"Aquaman\"\n",
    "        #local\n",
    "        print(superkahraman)\n",
    "    \n",
    "    icFonksiyon()"
   ]
  },
  {
   "cell_type": "code",
   "execution_count": 12,
   "id": "0181eb8e",
   "metadata": {},
   "outputs": [
    {
     "name": "stdout",
     "output_type": "stream",
     "text": [
      "Aquaman\n"
     ]
    }
   ],
   "source": [
    "ornekFonksiyon()"
   ]
  },
  {
   "cell_type": "code",
   "execution_count": 13,
   "id": "4034904e",
   "metadata": {},
   "outputs": [
    {
     "data": {
      "text/plain": [
       "'Batman'"
      ]
     },
     "execution_count": 13,
     "metadata": {},
     "output_type": "execute_result"
    }
   ],
   "source": [
    "superkahraman"
   ]
  },
  {
   "cell_type": "code",
   "execution_count": 23,
   "id": "1cfa65b9",
   "metadata": {},
   "outputs": [],
   "source": [
    "x = 5\n",
    "\n",
    "def yeniOrnek(x):\n",
    "    print(x)\n",
    "    x = 10\n",
    "    print(x)\n",
    "    return x"
   ]
  },
  {
   "cell_type": "code",
   "execution_count": 24,
   "id": "1c90a9eb",
   "metadata": {},
   "outputs": [
    {
     "name": "stdout",
     "output_type": "stream",
     "text": [
      "20\n",
      "10\n"
     ]
    },
    {
     "data": {
      "text/plain": [
       "10"
      ]
     },
     "execution_count": 24,
     "metadata": {},
     "output_type": "execute_result"
    }
   ],
   "source": [
    "yeniOrnek(20)"
   ]
  },
  {
   "cell_type": "code",
   "execution_count": 25,
   "id": "5e79df57",
   "metadata": {},
   "outputs": [],
   "source": [
    "y = 5\n",
    "\n",
    "def yeniBirFonksiyon():\n",
    "    y = 10\n",
    "    print(y)"
   ]
  },
  {
   "cell_type": "code",
   "execution_count": 26,
   "id": "8e3f5477",
   "metadata": {},
   "outputs": [
    {
     "name": "stdout",
     "output_type": "stream",
     "text": [
      "10\n"
     ]
    }
   ],
   "source": [
    "yeniBirFonksiyon()"
   ]
  },
  {
   "cell_type": "code",
   "execution_count": 27,
   "id": "6a14950a",
   "metadata": {},
   "outputs": [
    {
     "data": {
      "text/plain": [
       "5"
      ]
     },
     "execution_count": 27,
     "metadata": {},
     "output_type": "execute_result"
    }
   ],
   "source": [
    "y"
   ]
  },
  {
   "cell_type": "code",
   "execution_count": 28,
   "id": "4da6dd93",
   "metadata": {},
   "outputs": [],
   "source": [
    "z = 5\n",
    "\n",
    "def yepyeniFonksiyon():\n",
    "    global z\n",
    "    z = 10\n",
    "    print(z)"
   ]
  },
  {
   "cell_type": "code",
   "execution_count": 29,
   "id": "ba3167f2",
   "metadata": {},
   "outputs": [
    {
     "name": "stdout",
     "output_type": "stream",
     "text": [
      "10\n"
     ]
    }
   ],
   "source": [
    "yepyeniFonksiyon()"
   ]
  },
  {
   "cell_type": "code",
   "execution_count": 30,
   "id": "132bd7d5",
   "metadata": {},
   "outputs": [
    {
     "data": {
      "text/plain": [
       "10"
      ]
     },
     "execution_count": 30,
     "metadata": {},
     "output_type": "execute_result"
    }
   ],
   "source": [
    "z"
   ]
  },
  {
   "cell_type": "code",
   "execution_count": null,
   "id": "3e5239df",
   "metadata": {},
   "outputs": [],
   "source": []
  }
 ],
 "metadata": {
  "kernelspec": {
   "display_name": "Python 3 (ipykernel)",
   "language": "python",
   "name": "python3"
  },
  "language_info": {
   "codemirror_mode": {
    "name": "ipython",
    "version": 3
   },
   "file_extension": ".py",
   "mimetype": "text/x-python",
   "name": "python",
   "nbconvert_exporter": "python",
   "pygments_lexer": "ipython3",
   "version": "3.11.5"
  }
 },
 "nbformat": 4,
 "nbformat_minor": 5
}
