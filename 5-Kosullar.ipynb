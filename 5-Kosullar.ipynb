{
 "cells": [
  {
   "cell_type": "code",
   "execution_count": 6,
   "id": "9d56ca9a",
   "metadata": {},
   "outputs": [
    {
     "data": {
      "text/plain": [
       "True"
      ]
     },
     "execution_count": 6,
     "metadata": {},
     "output_type": "execute_result"
    }
   ],
   "source": [
    "3 > 1"
   ]
  },
  {
   "cell_type": "code",
   "execution_count": 7,
   "id": "6cf83dd6",
   "metadata": {},
   "outputs": [
    {
     "name": "stdout",
     "output_type": "stream",
     "text": [
      "merhaba\n"
     ]
    }
   ],
   "source": [
    "print(\"merhaba\")"
   ]
  },
  {
   "cell_type": "code",
   "execution_count": 8,
   "id": "f068d068",
   "metadata": {},
   "outputs": [],
   "source": [
    "x = 10"
   ]
  },
  {
   "cell_type": "code",
   "execution_count": 9,
   "id": "0f9e81a6",
   "metadata": {},
   "outputs": [
    {
     "name": "stdout",
     "output_type": "stream",
     "text": [
      "x'in değeri: \n"
     ]
    }
   ],
   "source": [
    "print(\"x'in değeri: \")"
   ]
  },
  {
   "cell_type": "code",
   "execution_count": 10,
   "id": "438cd364",
   "metadata": {},
   "outputs": [
    {
     "name": "stdout",
     "output_type": "stream",
     "text": [
      "x'in değeri: 10\n"
     ]
    }
   ],
   "source": [
    "print(f\"x'in değeri: {x}\")"
   ]
  },
  {
   "cell_type": "code",
   "execution_count": 11,
   "id": "6cf31697",
   "metadata": {},
   "outputs": [],
   "source": [
    "x = 4\n",
    "y = 3"
   ]
  },
  {
   "cell_type": "code",
   "execution_count": 12,
   "id": "457f7b53",
   "metadata": {},
   "outputs": [
    {
     "name": "stdout",
     "output_type": "stream",
     "text": [
      "x gerçekten de y'den büyükmüş\n",
      "çünkü x'in değeri 4 ve y'nin değeri 3\n"
     ]
    }
   ],
   "source": [
    "if x > y:\n",
    "    print(\"x gerçekten de y'den büyükmüş\")\n",
    "    print(f\"çünkü x'in değeri {x} ve y'nin değeri {y}\")"
   ]
  },
  {
   "cell_type": "code",
   "execution_count": 13,
   "id": "f336d960",
   "metadata": {},
   "outputs": [],
   "source": [
    "a = 5\n",
    "b = 1"
   ]
  },
  {
   "cell_type": "code",
   "execution_count": 14,
   "id": "ea9cc50a",
   "metadata": {},
   "outputs": [
    {
     "name": "stdout",
     "output_type": "stream",
     "text": [
      "a, b'den büyüktür\n",
      "burası if'in dışında\n"
     ]
    }
   ],
   "source": [
    "if a > b:\n",
    "    print(\"a, b'den büyüktür\")\n",
    "print(\"burası if'in dışında\")"
   ]
  },
  {
   "cell_type": "code",
   "execution_count": 15,
   "id": "82a0a377",
   "metadata": {},
   "outputs": [],
   "source": [
    "#indentation"
   ]
  },
  {
   "cell_type": "code",
   "execution_count": 16,
   "id": "54cc6166",
   "metadata": {},
   "outputs": [],
   "source": [
    "if b > a:\n",
    "    print(\"b, a'dan büyüktür\")\n",
    "    if x > y:\n",
    "        print(\"x, y'den büyüktür\")"
   ]
  },
  {
   "cell_type": "code",
   "execution_count": 17,
   "id": "361b11e6",
   "metadata": {},
   "outputs": [],
   "source": [
    "benim_sayim = 10\n",
    "diger_sayim = 10"
   ]
  },
  {
   "cell_type": "code",
   "execution_count": 18,
   "id": "f7c5a07b",
   "metadata": {},
   "outputs": [
    {
     "name": "stdout",
     "output_type": "stream",
     "text": [
      "hiç bir koşul tutmadı, demekki bunlar birbirine eşit \n"
     ]
    }
   ],
   "source": [
    "if benim_sayim > diger_sayim:\n",
    "    print(\"benim sayım daha büyük\")\n",
    "elif diger_sayim > benim_sayim:\n",
    "    print(\"benim sayım daha küçük\")\n",
    "else:\n",
    "    print(\"hiç bir koşul tutmadı, demekki bunlar birbirine eşit \")"
   ]
  },
  {
   "cell_type": "code",
   "execution_count": 19,
   "id": "4480cc6d",
   "metadata": {},
   "outputs": [],
   "source": [
    "a = 5\n",
    "b = 10\n",
    "c = 15"
   ]
  },
  {
   "cell_type": "code",
   "execution_count": 20,
   "id": "4c32bd2c",
   "metadata": {},
   "outputs": [
    {
     "name": "stdout",
     "output_type": "stream",
     "text": [
      "a, b'den küçük ve aynı zamanda b'de c'den küçük\n"
     ]
    }
   ],
   "source": [
    "if a > b and b > c:\n",
    "    print(\"a, b'den büyük ve aynı zamanda b de c'den büyük\")\n",
    "elif a < b and b < c:\n",
    "    print(\"a, b'den küçük ve aynı zamanda b'de c'den küçük\")\n",
    "else:\n",
    "    print(\"bu koşullar tutmadı\")"
   ]
  },
  {
   "cell_type": "code",
   "execution_count": 21,
   "id": "eb7b0cac",
   "metadata": {},
   "outputs": [],
   "source": [
    "benim_string= \"mirac kaya\""
   ]
  },
  {
   "cell_type": "code",
   "execution_count": 22,
   "id": "b4d7b864",
   "metadata": {},
   "outputs": [
    {
     "name": "stdout",
     "output_type": "stream",
     "text": [
      "evet sensin\n"
     ]
    }
   ],
   "source": [
    "if benim_string == \"mirac kaya\":\n",
    "    print(\"evet sensin\")\n",
    "else:\n",
    "    print(\"hayır değilsin\")\n"
   ]
  },
  {
   "cell_type": "code",
   "execution_count": 23,
   "id": "f4d54566",
   "metadata": {},
   "outputs": [
    {
     "name": "stdout",
     "output_type": "stream",
     "text": [
      "mirac diye bir string varmış\n"
     ]
    }
   ],
   "source": [
    "if \"mirac\" in benim_string:\n",
    "    print(\"mirac diye bir string varmış\")\n",
    "else:\n",
    "    print(\"yokmuş\")"
   ]
  },
  {
   "cell_type": "code",
   "execution_count": 24,
   "id": "75e0eed6",
   "metadata": {},
   "outputs": [],
   "source": [
    "numara_listesi = [10,20,30,40,50,60]"
   ]
  },
  {
   "cell_type": "code",
   "execution_count": 25,
   "id": "892c8c40",
   "metadata": {},
   "outputs": [
    {
     "name": "stdout",
     "output_type": "stream",
     "text": [
      "evet var\n"
     ]
    }
   ],
   "source": [
    "if 50 in numara_listesi:\n",
    "    print(\"evet var\")\n",
    "else:\n",
    "    print(\"hayır yok\")"
   ]
  },
  {
   "cell_type": "code",
   "execution_count": 26,
   "id": "45cb6c8b",
   "metadata": {},
   "outputs": [],
   "source": [
    "kalori_sozluk = {\"muz\":100, \"elma\":200, \"karpuz\":300}"
   ]
  },
  {
   "cell_type": "code",
   "execution_count": 27,
   "id": "f4be414c",
   "metadata": {},
   "outputs": [
    {
     "name": "stdout",
     "output_type": "stream",
     "text": [
      "evet\n"
     ]
    }
   ],
   "source": [
    "if \"muz\" in kalori_sozluk.keys():\n",
    "    print(\"evet\")"
   ]
  },
  {
   "cell_type": "code",
   "execution_count": 28,
   "id": "03b009a5",
   "metadata": {},
   "outputs": [
    {
     "name": "stdout",
     "output_type": "stream",
     "text": [
      "var\n"
     ]
    }
   ],
   "source": [
    "if 300 in kalori_sozluk.values():\n",
    "    print(\"var\")"
   ]
  },
  {
   "cell_type": "code",
   "execution_count": null,
   "id": "f9e918a2",
   "metadata": {},
   "outputs": [],
   "source": []
  }
 ],
 "metadata": {
  "kernelspec": {
   "display_name": "Python 3 (ipykernel)",
   "language": "python",
   "name": "python3"
  },
  "language_info": {
   "codemirror_mode": {
    "name": "ipython",
    "version": 3
   },
   "file_extension": ".py",
   "mimetype": "text/x-python",
   "name": "python",
   "nbconvert_exporter": "python",
   "pygments_lexer": "ipython3",
   "version": "3.11.5"
  }
 },
 "nbformat": 4,
 "nbformat_minor": 5
}
