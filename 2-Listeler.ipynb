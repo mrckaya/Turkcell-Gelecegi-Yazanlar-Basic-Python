{
 "cells": [
  {
   "cell_type": "code",
   "execution_count": 1,
   "id": "8c906dcb",
   "metadata": {},
   "outputs": [],
   "source": [
    "benim_string = \"miraç kaya\""
   ]
  },
  {
   "cell_type": "code",
   "execution_count": 2,
   "id": "6ed5c2de",
   "metadata": {},
   "outputs": [
    {
     "data": {
      "text/plain": [
       "'m'"
      ]
     },
     "execution_count": 2,
     "metadata": {},
     "output_type": "execute_result"
    }
   ],
   "source": [
    "benim_string[0]"
   ]
  },
  {
   "cell_type": "code",
   "execution_count": 4,
   "id": "bf483389",
   "metadata": {},
   "outputs": [],
   "source": [
    "#immutability, immutable, mutable"
   ]
  },
  {
   "cell_type": "code",
   "execution_count": 5,
   "id": "0c14712d",
   "metadata": {},
   "outputs": [],
   "source": [
    "benim_listem = [10,20,30,40,50]"
   ]
  },
  {
   "cell_type": "code",
   "execution_count": 6,
   "id": "d89f42f0",
   "metadata": {},
   "outputs": [
    {
     "data": {
      "text/plain": [
       "list"
      ]
     },
     "execution_count": 6,
     "metadata": {},
     "output_type": "execute_result"
    }
   ],
   "source": [
    "type(benim_listem)"
   ]
  },
  {
   "cell_type": "code",
   "execution_count": 7,
   "id": "0a748a19",
   "metadata": {},
   "outputs": [
    {
     "data": {
      "text/plain": [
       "20"
      ]
     },
     "execution_count": 7,
     "metadata": {},
     "output_type": "execute_result"
    }
   ],
   "source": [
    "benim_listem[1]"
   ]
  },
  {
   "cell_type": "code",
   "execution_count": 8,
   "id": "fcb81588",
   "metadata": {},
   "outputs": [],
   "source": [
    "benim_listem[1] = 100"
   ]
  },
  {
   "cell_type": "code",
   "execution_count": 10,
   "id": "90946432",
   "metadata": {},
   "outputs": [
    {
     "data": {
      "text/plain": [
       "[10, 100, 30, 40, 50]"
      ]
     },
     "execution_count": 10,
     "metadata": {},
     "output_type": "execute_result"
    }
   ],
   "source": [
    "benim_listem"
   ]
  },
  {
   "cell_type": "code",
   "execution_count": 11,
   "id": "19493b8f",
   "metadata": {},
   "outputs": [],
   "source": [
    "x = 10\n",
    "y = 20"
   ]
  },
  {
   "cell_type": "code",
   "execution_count": 12,
   "id": "802fa89f",
   "metadata": {},
   "outputs": [],
   "source": [
    "numara_listem = [x,y]"
   ]
  },
  {
   "cell_type": "code",
   "execution_count": 13,
   "id": "e0f6d07b",
   "metadata": {},
   "outputs": [
    {
     "data": {
      "text/plain": [
       "[10, 20]"
      ]
     },
     "execution_count": 13,
     "metadata": {},
     "output_type": "execute_result"
    }
   ],
   "source": [
    "numara_listem"
   ]
  },
  {
   "cell_type": "code",
   "execution_count": 14,
   "id": "925a0d7e",
   "metadata": {},
   "outputs": [
    {
     "data": {
      "text/plain": [
       "30"
      ]
     },
     "execution_count": 14,
     "metadata": {},
     "output_type": "execute_result"
    }
   ],
   "source": [
    "numara_listem[0] * 3"
   ]
  },
  {
   "cell_type": "code",
   "execution_count": 15,
   "id": "7fe76ace",
   "metadata": {},
   "outputs": [
    {
     "data": {
      "text/plain": [
       "int"
      ]
     },
     "execution_count": 15,
     "metadata": {},
     "output_type": "execute_result"
    }
   ],
   "source": [
    "type(numara_listem[0])"
   ]
  },
  {
   "cell_type": "code",
   "execution_count": 16,
   "id": "3456fcfc",
   "metadata": {},
   "outputs": [],
   "source": [
    "numara_listem.append(30)"
   ]
  },
  {
   "cell_type": "code",
   "execution_count": 17,
   "id": "f137e02d",
   "metadata": {},
   "outputs": [
    {
     "data": {
      "text/plain": [
       "[10, 20, 30]"
      ]
     },
     "execution_count": 17,
     "metadata": {},
     "output_type": "execute_result"
    }
   ],
   "source": [
    "numara_listem"
   ]
  },
  {
   "cell_type": "code",
   "execution_count": 20,
   "id": "6bdcb536",
   "metadata": {},
   "outputs": [
    {
     "data": {
      "text/plain": [
       "3"
      ]
     },
     "execution_count": 20,
     "metadata": {},
     "output_type": "execute_result"
    }
   ],
   "source": [
    "len(numara_listem)"
   ]
  },
  {
   "cell_type": "code",
   "execution_count": 21,
   "id": "7b946169",
   "metadata": {},
   "outputs": [
    {
     "data": {
      "text/plain": [
       "1"
      ]
     },
     "execution_count": 21,
     "metadata": {},
     "output_type": "execute_result"
    }
   ],
   "source": [
    "numara_listem.count(10)"
   ]
  },
  {
   "cell_type": "code",
   "execution_count": 22,
   "id": "3a1baff7",
   "metadata": {},
   "outputs": [],
   "source": [
    "numara_listem.append(10)"
   ]
  },
  {
   "cell_type": "code",
   "execution_count": 23,
   "id": "dc1d957c",
   "metadata": {},
   "outputs": [
    {
     "data": {
      "text/plain": [
       "2"
      ]
     },
     "execution_count": 23,
     "metadata": {},
     "output_type": "execute_result"
    }
   ],
   "source": [
    "numara_listem.count(10)"
   ]
  },
  {
   "cell_type": "code",
   "execution_count": 24,
   "id": "f7984129",
   "metadata": {},
   "outputs": [
    {
     "data": {
      "text/plain": [
       "10"
      ]
     },
     "execution_count": 24,
     "metadata": {},
     "output_type": "execute_result"
    }
   ],
   "source": [
    "numara_listem.pop()"
   ]
  },
  {
   "cell_type": "code",
   "execution_count": 25,
   "id": "208c6ec6",
   "metadata": {},
   "outputs": [
    {
     "data": {
      "text/plain": [
       "[10, 20, 30]"
      ]
     },
     "execution_count": 25,
     "metadata": {},
     "output_type": "execute_result"
    }
   ],
   "source": [
    "numara_listem"
   ]
  },
  {
   "cell_type": "code",
   "execution_count": 26,
   "id": "d995ab8a",
   "metadata": {},
   "outputs": [],
   "source": [
    "numara_listem.reverse()"
   ]
  },
  {
   "cell_type": "code",
   "execution_count": 27,
   "id": "26d7fffe",
   "metadata": {},
   "outputs": [
    {
     "data": {
      "text/plain": [
       "[30, 20, 10]"
      ]
     },
     "execution_count": 27,
     "metadata": {},
     "output_type": "execute_result"
    }
   ],
   "source": [
    "numara_listem"
   ]
  },
  {
   "cell_type": "code",
   "execution_count": 28,
   "id": "741960bb",
   "metadata": {},
   "outputs": [],
   "source": [
    "numara_listem.sort()"
   ]
  },
  {
   "cell_type": "code",
   "execution_count": 29,
   "id": "70a0595c",
   "metadata": {},
   "outputs": [
    {
     "data": {
      "text/plain": [
       "[10, 20, 30]"
      ]
     },
     "execution_count": 29,
     "metadata": {},
     "output_type": "execute_result"
    }
   ],
   "source": [
    "numara_listem"
   ]
  },
  {
   "cell_type": "code",
   "execution_count": 31,
   "id": "3060e4f4",
   "metadata": {},
   "outputs": [],
   "source": [
    "numara_listem.remove(20)"
   ]
  },
  {
   "cell_type": "code",
   "execution_count": 32,
   "id": "8de9be96",
   "metadata": {},
   "outputs": [
    {
     "data": {
      "text/plain": [
       "[10, 30]"
      ]
     },
     "execution_count": 32,
     "metadata": {},
     "output_type": "execute_result"
    }
   ],
   "source": [
    "numara_listem"
   ]
  },
  {
   "cell_type": "code",
   "execution_count": 33,
   "id": "ed141448",
   "metadata": {},
   "outputs": [],
   "source": [
    "benim_string_listem = [\"mirac\",\"kaya\",\"ahmet\"]"
   ]
  },
  {
   "cell_type": "code",
   "execution_count": 34,
   "id": "093848b1",
   "metadata": {},
   "outputs": [],
   "source": [
    "benim_string_listem.append(\"mehmet\")"
   ]
  },
  {
   "cell_type": "code",
   "execution_count": 35,
   "id": "7e694f12",
   "metadata": {},
   "outputs": [
    {
     "data": {
      "text/plain": [
       "['mirac', 'kaya', 'ahmet', 'mehmet']"
      ]
     },
     "execution_count": 35,
     "metadata": {},
     "output_type": "execute_result"
    }
   ],
   "source": [
    "benim_string_listem"
   ]
  },
  {
   "cell_type": "code",
   "execution_count": 36,
   "id": "37c24f55",
   "metadata": {},
   "outputs": [],
   "source": [
    "baska_liste = [\"hüseyin\",\"mirac\",\"fatma\"]"
   ]
  },
  {
   "cell_type": "code",
   "execution_count": 37,
   "id": "a3bba950",
   "metadata": {},
   "outputs": [],
   "source": [
    "liste_toplama = benim_string_listem + baska_liste"
   ]
  },
  {
   "cell_type": "code",
   "execution_count": 38,
   "id": "9f4c75f7",
   "metadata": {},
   "outputs": [
    {
     "data": {
      "text/plain": [
       "['mirac', 'kaya', 'ahmet', 'mehmet', 'hüseyin', 'mirac', 'fatma']"
      ]
     },
     "execution_count": 38,
     "metadata": {},
     "output_type": "execute_result"
    }
   ],
   "source": [
    "liste_toplama"
   ]
  },
  {
   "cell_type": "code",
   "execution_count": 39,
   "id": "a95bbdd1",
   "metadata": {},
   "outputs": [
    {
     "data": {
      "text/plain": [
       "['mirac', 'kaya', 'ahmet', 'mehmet', 'mirac', 'kaya', 'ahmet', 'mehmet']"
      ]
     },
     "execution_count": 39,
     "metadata": {},
     "output_type": "execute_result"
    }
   ],
   "source": [
    "benim_string_listem * 2"
   ]
  },
  {
   "cell_type": "code",
   "execution_count": 40,
   "id": "c7398eaf",
   "metadata": {},
   "outputs": [
    {
     "data": {
      "text/plain": [
       "['mirac', 'kaya', 'ahmet', 'mehmet', 'hüseyin', 'mirac', 'fatma']"
      ]
     },
     "execution_count": 40,
     "metadata": {},
     "output_type": "execute_result"
    }
   ],
   "source": [
    "liste_toplama"
   ]
  },
  {
   "cell_type": "code",
   "execution_count": 41,
   "id": "2208e97c",
   "metadata": {},
   "outputs": [],
   "source": [
    "liste_toplama.sort()"
   ]
  },
  {
   "cell_type": "code",
   "execution_count": 42,
   "id": "5a881e52",
   "metadata": {},
   "outputs": [
    {
     "data": {
      "text/plain": [
       "['ahmet', 'fatma', 'hüseyin', 'kaya', 'mehmet', 'mirac', 'mirac']"
      ]
     },
     "execution_count": 42,
     "metadata": {},
     "output_type": "execute_result"
    }
   ],
   "source": [
    "liste_toplama"
   ]
  },
  {
   "cell_type": "code",
   "execution_count": 53,
   "id": "08bdabf5",
   "metadata": {},
   "outputs": [],
   "source": [
    "karisik_liste = [1,100,\"mirac\",10.4,3.145]"
   ]
  },
  {
   "cell_type": "code",
   "execution_count": 54,
   "id": "d59497db",
   "metadata": {},
   "outputs": [],
   "source": [
    "karisik_liste.reverse()"
   ]
  },
  {
   "cell_type": "code",
   "execution_count": 55,
   "id": "eaea9db9",
   "metadata": {},
   "outputs": [
    {
     "data": {
      "text/plain": [
       "[3.145, 10.4, 'mirac', 100, 1]"
      ]
     },
     "execution_count": 55,
     "metadata": {},
     "output_type": "execute_result"
    }
   ],
   "source": [
    "karisik_liste"
   ]
  },
  {
   "cell_type": "code",
   "execution_count": 56,
   "id": "c43c91d2",
   "metadata": {},
   "outputs": [],
   "source": [
    "ilk_eleman = karisik_liste[0]"
   ]
  },
  {
   "cell_type": "code",
   "execution_count": 57,
   "id": "534b97f2",
   "metadata": {},
   "outputs": [
    {
     "data": {
      "text/plain": [
       "float"
      ]
     },
     "execution_count": 57,
     "metadata": {},
     "output_type": "execute_result"
    }
   ],
   "source": [
    "type(ilk_eleman)"
   ]
  },
  {
   "cell_type": "code",
   "execution_count": 58,
   "id": "0077c0ed",
   "metadata": {},
   "outputs": [],
   "source": [
    "ucuncu_eleman = karisik_liste[2]"
   ]
  },
  {
   "cell_type": "code",
   "execution_count": 59,
   "id": "99ca14d8",
   "metadata": {},
   "outputs": [
    {
     "data": {
      "text/plain": [
       "str"
      ]
     },
     "execution_count": 59,
     "metadata": {},
     "output_type": "execute_result"
    }
   ],
   "source": [
    "type(ucuncu_eleman)"
   ]
  },
  {
   "cell_type": "code",
   "execution_count": 60,
   "id": "c9443c98",
   "metadata": {},
   "outputs": [],
   "source": [
    "#nested list -> iç içe geçmiş liste"
   ]
  },
  {
   "cell_type": "code",
   "execution_count": 61,
   "id": "e8e90326",
   "metadata": {},
   "outputs": [],
   "source": [
    "nested_list_ornek = [1,10,\"miraç\",[10,20,30,40],[\"a\",\"b\"]]"
   ]
  },
  {
   "cell_type": "code",
   "execution_count": 66,
   "id": "a607e2f2",
   "metadata": {},
   "outputs": [
    {
     "data": {
      "text/plain": [
       "30"
      ]
     },
     "execution_count": 66,
     "metadata": {},
     "output_type": "execute_result"
    }
   ],
   "source": [
    "nested_list_ornek[3][2]"
   ]
  },
  {
   "cell_type": "code",
   "execution_count": 67,
   "id": "f4e7865b",
   "metadata": {},
   "outputs": [],
   "source": [
    "#slicing"
   ]
  },
  {
   "cell_type": "code",
   "execution_count": 68,
   "id": "0e9a77db",
   "metadata": {},
   "outputs": [],
   "source": [
    "numara_listesi = [0,1,2,3,4,5,6,7,8,9]"
   ]
  },
  {
   "cell_type": "code",
   "execution_count": 69,
   "id": "807840d9",
   "metadata": {},
   "outputs": [
    {
     "data": {
      "text/plain": [
       "[3, 4, 5, 6, 7]"
      ]
     },
     "execution_count": 69,
     "metadata": {},
     "output_type": "execute_result"
    }
   ],
   "source": [
    "numara_listesi[3:8]"
   ]
  },
  {
   "cell_type": "code",
   "execution_count": 70,
   "id": "63858b43",
   "metadata": {},
   "outputs": [
    {
     "data": {
      "text/plain": [
       "[0, 3, 6, 9]"
      ]
     },
     "execution_count": 70,
     "metadata": {},
     "output_type": "execute_result"
    }
   ],
   "source": [
    "numara_listesi[::3]"
   ]
  },
  {
   "cell_type": "code",
   "execution_count": null,
   "id": "415e8fb9",
   "metadata": {},
   "outputs": [],
   "source": []
  }
 ],
 "metadata": {
  "kernelspec": {
   "display_name": "Python 3 (ipykernel)",
   "language": "python",
   "name": "python3"
  },
  "language_info": {
   "codemirror_mode": {
    "name": "ipython",
    "version": 3
   },
   "file_extension": ".py",
   "mimetype": "text/x-python",
   "name": "python",
   "nbconvert_exporter": "python",
   "pygments_lexer": "ipython3",
   "version": "3.11.5"
  }
 },
 "nbformat": 4,
 "nbformat_minor": 5
}
