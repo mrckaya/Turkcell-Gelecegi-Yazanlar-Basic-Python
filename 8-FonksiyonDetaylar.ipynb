{
 "cells": [
  {
   "cell_type": "code",
   "execution_count": 1,
   "id": "5dc8a6f1",
   "metadata": {},
   "outputs": [],
   "source": [
    "def ikiyleCarp(numara):\n",
    "    return numara * 2"
   ]
  },
  {
   "cell_type": "code",
   "execution_count": 2,
   "id": "1c34d2ed",
   "metadata": {},
   "outputs": [
    {
     "data": {
      "text/plain": [
       "40"
      ]
     },
     "execution_count": 2,
     "metadata": {},
     "output_type": "execute_result"
    }
   ],
   "source": [
    "ikiyleCarp(20)"
   ]
  },
  {
   "cell_type": "code",
   "execution_count": 3,
   "id": "b25d654e",
   "metadata": {},
   "outputs": [],
   "source": [
    "numara_listemiz = [10,20,30,40,50,60,70,80,90,100]"
   ]
  },
  {
   "cell_type": "code",
   "execution_count": 4,
   "id": "3cbc9bf3",
   "metadata": {},
   "outputs": [],
   "source": [
    "yeni_listemiz = []"
   ]
  },
  {
   "cell_type": "code",
   "execution_count": 6,
   "id": "d705092d",
   "metadata": {},
   "outputs": [],
   "source": [
    "for eleman in numara_listemiz:\n",
    "    yeni_listemiz.append(ikiyleCarp(eleman))"
   ]
  },
  {
   "cell_type": "code",
   "execution_count": 7,
   "id": "b8ebb2b3",
   "metadata": {},
   "outputs": [
    {
     "data": {
      "text/plain": [
       "[20, 40, 60, 80, 100, 120, 140, 160, 180, 200]"
      ]
     },
     "execution_count": 7,
     "metadata": {},
     "output_type": "execute_result"
    }
   ],
   "source": [
    "yeni_listemiz"
   ]
  },
  {
   "cell_type": "code",
   "execution_count": 8,
   "id": "ee62f3d1",
   "metadata": {},
   "outputs": [],
   "source": [
    "#map"
   ]
  },
  {
   "cell_type": "code",
   "execution_count": 11,
   "id": "8d292712",
   "metadata": {},
   "outputs": [],
   "source": [
    "en_yeni_list = list(map(ikiyleCarp,numara_listemiz))"
   ]
  },
  {
   "cell_type": "code",
   "execution_count": 12,
   "id": "339c2ab6",
   "metadata": {},
   "outputs": [
    {
     "data": {
      "text/plain": [
       "[20, 40, 60, 80, 100, 120, 140, 160, 180, 200]"
      ]
     },
     "execution_count": 12,
     "metadata": {},
     "output_type": "execute_result"
    }
   ],
   "source": [
    "en_yeni_list"
   ]
  },
  {
   "cell_type": "code",
   "execution_count": 13,
   "id": "1cc7e50c",
   "metadata": {},
   "outputs": [],
   "source": [
    "def stringKontrolu(s):\n",
    "    return \"miraç\" in s"
   ]
  },
  {
   "cell_type": "code",
   "execution_count": 14,
   "id": "7f95baa3",
   "metadata": {},
   "outputs": [
    {
     "data": {
      "text/plain": [
       "True"
      ]
     },
     "execution_count": 14,
     "metadata": {},
     "output_type": "execute_result"
    }
   ],
   "source": [
    "stringKontrolu(\"miraç kaya\")"
   ]
  },
  {
   "cell_type": "code",
   "execution_count": 15,
   "id": "4ed8e196",
   "metadata": {},
   "outputs": [],
   "source": [
    "string_liste = [\"miraç kaya\",\"miraç\",\"kaya\"]"
   ]
  },
  {
   "cell_type": "code",
   "execution_count": 16,
   "id": "51f1ca11",
   "metadata": {},
   "outputs": [
    {
     "data": {
      "text/plain": [
       "[True, True, False]"
      ]
     },
     "execution_count": 16,
     "metadata": {},
     "output_type": "execute_result"
    }
   ],
   "source": [
    "list(map(stringKontrolu,string_liste))"
   ]
  },
  {
   "cell_type": "code",
   "execution_count": 17,
   "id": "fc4c9988",
   "metadata": {},
   "outputs": [],
   "source": [
    "#filter"
   ]
  },
  {
   "cell_type": "code",
   "execution_count": 19,
   "id": "cca94641",
   "metadata": {},
   "outputs": [
    {
     "data": {
      "text/plain": [
       "['miraç kaya', 'miraç']"
      ]
     },
     "execution_count": 19,
     "metadata": {},
     "output_type": "execute_result"
    }
   ],
   "source": [
    "list(filter(stringKontrolu,string_liste))"
   ]
  },
  {
   "cell_type": "code",
   "execution_count": 20,
   "id": "83576caf",
   "metadata": {},
   "outputs": [],
   "source": [
    "#lambda"
   ]
  },
  {
   "cell_type": "code",
   "execution_count": 21,
   "id": "d2f1abb0",
   "metadata": {},
   "outputs": [],
   "source": [
    "carpma = lambda num : num * 3"
   ]
  },
  {
   "cell_type": "code",
   "execution_count": 22,
   "id": "b5d5c40e",
   "metadata": {},
   "outputs": [
    {
     "data": {
      "text/plain": [
       "60"
      ]
     },
     "execution_count": 22,
     "metadata": {},
     "output_type": "execute_result"
    }
   ],
   "source": [
    "carpma(20)"
   ]
  },
  {
   "cell_type": "code",
   "execution_count": 23,
   "id": "7e687947",
   "metadata": {},
   "outputs": [
    {
     "data": {
      "text/plain": [
       "['miraç kaya', 'miraç', 'kaya']"
      ]
     },
     "execution_count": 23,
     "metadata": {},
     "output_type": "execute_result"
    }
   ],
   "source": [
    "string_liste"
   ]
  },
  {
   "cell_type": "code",
   "execution_count": 25,
   "id": "7e78cb8f",
   "metadata": {},
   "outputs": [
    {
     "data": {
      "text/plain": [
       "['miraç kaya', 'miraç', 'kaya']"
      ]
     },
     "execution_count": 25,
     "metadata": {},
     "output_type": "execute_result"
    }
   ],
   "source": [
    "list(filter(lambda string : \"a\" in string,string_liste))"
   ]
  },
  {
   "cell_type": "code",
   "execution_count": 26,
   "id": "65d364be",
   "metadata": {},
   "outputs": [
    {
     "data": {
      "text/plain": [
       "[True, True, True]"
      ]
     },
     "execution_count": 26,
     "metadata": {},
     "output_type": "execute_result"
    }
   ],
   "source": [
    "list(map(lambda string : \"a\" in string,string_liste))"
   ]
  },
  {
   "cell_type": "code",
   "execution_count": null,
   "id": "234dfb55",
   "metadata": {},
   "outputs": [],
   "source": []
  }
 ],
 "metadata": {
  "kernelspec": {
   "display_name": "Python 3 (ipykernel)",
   "language": "python",
   "name": "python3"
  },
  "language_info": {
   "codemirror_mode": {
    "name": "ipython",
    "version": 3
   },
   "file_extension": ".py",
   "mimetype": "text/x-python",
   "name": "python",
   "nbconvert_exporter": "python",
   "pygments_lexer": "ipython3",
   "version": "3.11.5"
  }
 },
 "nbformat": 4,
 "nbformat_minor": 5
}
