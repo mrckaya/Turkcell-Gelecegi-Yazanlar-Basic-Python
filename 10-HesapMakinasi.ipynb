{
 "cells": [
  {
   "cell_type": "code",
   "execution_count": 1,
   "id": "10aa096e",
   "metadata": {},
   "outputs": [],
   "source": [
    "def toplama(num1,num2):\n",
    "    return num1 + num2"
   ]
  },
  {
   "cell_type": "code",
   "execution_count": 2,
   "id": "8aee05e6",
   "metadata": {},
   "outputs": [
    {
     "name": "stdout",
     "output_type": "stream",
     "text": [
      "ilk numarayı giriniz1\n",
      "ikinci numarayı giriniz1\n"
     ]
    },
    {
     "data": {
      "text/plain": [
       "2"
      ]
     },
     "execution_count": 2,
     "metadata": {},
     "output_type": "execute_result"
    }
   ],
   "source": [
    "a = int(input(\"ilk numarayı giriniz\"))\n",
    "b = int(input(\"ikinci numarayı giriniz\"))\n",
    "toplama(a,b)"
   ]
  },
  {
   "cell_type": "code",
   "execution_count": 3,
   "id": "13ceb539",
   "metadata": {},
   "outputs": [
    {
     "name": "stdout",
     "output_type": "stream",
     "text": [
      "ilk numarayı giriniz1\n",
      "ikinci numarayı giriniz1\n"
     ]
    },
    {
     "data": {
      "text/plain": [
       "2"
      ]
     },
     "execution_count": 3,
     "metadata": {},
     "output_type": "execute_result"
    }
   ],
   "source": [
    "a = int(input(\"ilk numarayı giriniz\"))\n",
    "b = int(input(\"ikinci numarayı giriniz\"))\n",
    "toplama(a,b)"
   ]
  },
  {
   "cell_type": "code",
   "execution_count": 4,
   "id": "7924d4b7",
   "metadata": {},
   "outputs": [],
   "source": [
    "#hataları ele almak - error handling"
   ]
  },
  {
   "cell_type": "code",
   "execution_count": 5,
   "id": "5b0368ed",
   "metadata": {},
   "outputs": [],
   "source": [
    "#try & except & else & finally"
   ]
  },
  {
   "cell_type": "code",
   "execution_count": 6,
   "id": "2570bf45",
   "metadata": {},
   "outputs": [
    {
     "name": "stdout",
     "output_type": "stream",
     "text": [
      "ilk numarayı giriniz1\n",
      "ikinci numarayı giriniz1\n",
      "2\n"
     ]
    }
   ],
   "source": [
    "try:\n",
    "    a = int(input(\"ilk numarayı giriniz\"))\n",
    "    b = int(input(\"ikinci numarayı giriniz\"))\n",
    "    print(toplama(a,b))\n",
    "except:\n",
    "    print(\"lütfen doğru bir numara giriniz\")\n"
   ]
  },
  {
   "cell_type": "code",
   "execution_count": 7,
   "id": "76e96545",
   "metadata": {},
   "outputs": [
    {
     "name": "stdout",
     "output_type": "stream",
     "text": [
      "numaranızı giriniz1\n",
      "teşekkürler\n",
      "finally çağırıldı\n"
     ]
    }
   ],
   "source": [
    "try:\n",
    "    yeni_int = int(input(\"numaranızı giriniz\"))\n",
    "except:\n",
    "    print(\"sanırsam yanlış numara girdiniz\")\n",
    "else:\n",
    "    print(\"teşekkürler\")\n",
    "finally:\n",
    "    print(\"finally çağırıldı\")"
   ]
  },
  {
   "cell_type": "code",
   "execution_count": 8,
   "id": "970c47e5",
   "metadata": {},
   "outputs": [
    {
     "name": "stdout",
     "output_type": "stream",
     "text": [
      "numaranızı giriniz1\n",
      "teşekkürler\n",
      "finally çağırıldı\n"
     ]
    }
   ],
   "source": [
    "while True:\n",
    "    try:\n",
    "        yeni_int = int(input(\"numaranızı giriniz\"))\n",
    "    except:\n",
    "        print(\"sanırsam yanlış numara girdiniz\")\n",
    "        continue\n",
    "    else:\n",
    "        print(\"teşekkürler\")\n",
    "        break\n",
    "    finally:\n",
    "        print(\"finally çağırıldı\")"
   ]
  },
  {
   "cell_type": "code",
   "execution_count": 10,
   "id": "0fcdf674",
   "metadata": {},
   "outputs": [
    {
     "name": "stdout",
     "output_type": "stream",
     "text": [
      "ilk sayıyı gir: 10\n",
      "ikinci sayıyı gir: 20\n",
      "yapmak istediğiniz işlemi giriniz(+,-,*,/): +\n",
      "30\n",
      "Teşekkürler\n"
     ]
    }
   ],
   "source": [
    "while True:\n",
    "    try:\n",
    "        a = int(input(\"ilk sayıyı gir: \"))\n",
    "        b = int(input(\"ikinci sayıyı gir: \"))\n",
    "        c = input(\"yapmak istediğiniz işlemi giriniz(+,-,*,/): \")\n",
    "        if c not in \"+-*/\":\n",
    "            print(\"Lütfen işlemi doğru giriniz!\")\n",
    "            continue\n",
    "        elif c == \"+\":\n",
    "            print(a+b)\n",
    "        elif c == \"-\":\n",
    "            print(a-b)\n",
    "        elif c == \"*\":\n",
    "            print(a*b)\n",
    "        elif c == \"/\":\n",
    "            print(a/b)\n",
    "    except:\n",
    "        print(\"Lütfen sayıları düzgün giriniz!\")\n",
    "        continue\n",
    "    else:\n",
    "        print(\"Teşekkürler\")\n",
    "        break"
   ]
  },
  {
   "cell_type": "code",
   "execution_count": null,
   "id": "f6726449",
   "metadata": {},
   "outputs": [],
   "source": []
  }
 ],
 "metadata": {
  "kernelspec": {
   "display_name": "Python 3 (ipykernel)",
   "language": "python",
   "name": "python3"
  },
  "language_info": {
   "codemirror_mode": {
    "name": "ipython",
    "version": 3
   },
   "file_extension": ".py",
   "mimetype": "text/x-python",
   "name": "python",
   "nbconvert_exporter": "python",
   "pygments_lexer": "ipython3",
   "version": "3.11.5"
  }
 },
 "nbformat": 4,
 "nbformat_minor": 5
}
