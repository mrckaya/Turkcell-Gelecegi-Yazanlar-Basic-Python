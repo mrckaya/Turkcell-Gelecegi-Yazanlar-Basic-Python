{
 "cells": [
  {
   "cell_type": "code",
   "execution_count": 17,
   "id": "8d9fed5b",
   "metadata": {},
   "outputs": [],
   "source": [
    "benim_listem = [40,50,60,70,80,90,100]"
   ]
  },
  {
   "cell_type": "code",
   "execution_count": 18,
   "id": "1b1689db",
   "metadata": {},
   "outputs": [],
   "source": [
    "#for döngüsü"
   ]
  },
  {
   "cell_type": "code",
   "execution_count": 19,
   "id": "99e7719d",
   "metadata": {},
   "outputs": [
    {
     "name": "stdout",
     "output_type": "stream",
     "text": [
      "döngü başladı\n",
      "48.0\n",
      "60.0\n",
      "72.0\n",
      "84.0\n",
      "96.0\n",
      "108.0\n",
      "120.0\n",
      "döngü bitti\n"
     ]
    }
   ],
   "source": [
    "print(\"döngü başladı\")\n",
    "for numara in benim_listem:\n",
    "    print(numara / 5 * 6)\n",
    "print(\"döngü bitti\")"
   ]
  },
  {
   "cell_type": "code",
   "execution_count": 20,
   "id": "b57bb9db",
   "metadata": {},
   "outputs": [
    {
     "name": "stdout",
     "output_type": "stream",
     "text": [
      "8.0\n",
      "10.0\n",
      "12.0\n",
      "14.0\n",
      "16.0\n",
      "18.0\n",
      "20.0\n"
     ]
    }
   ],
   "source": [
    "for eleman in benim_listem:\n",
    "    yeni_numara = eleman / 5\n",
    "    print(yeni_numara)"
   ]
  },
  {
   "cell_type": "code",
   "execution_count": 21,
   "id": "62cc4345",
   "metadata": {},
   "outputs": [],
   "source": [
    "yeni_liste = [10,2032,132,3534,122,131,153,175,179,1349]"
   ]
  },
  {
   "cell_type": "code",
   "execution_count": 22,
   "id": "e6572357",
   "metadata": {},
   "outputs": [
    {
     "name": "stdout",
     "output_type": "stream",
     "text": [
      "10\n",
      "2032\n",
      "132\n",
      "3534\n",
      "122\n"
     ]
    }
   ],
   "source": [
    "for deger in yeni_liste:\n",
    "    if deger % 2 == 0:\n",
    "        print(deger)"
   ]
  },
  {
   "cell_type": "code",
   "execution_count": 23,
   "id": "5343dd33",
   "metadata": {},
   "outputs": [],
   "source": [
    "benim_adim = \"Miraç Kaya\""
   ]
  },
  {
   "cell_type": "code",
   "execution_count": 24,
   "id": "53f1d76d",
   "metadata": {},
   "outputs": [
    {
     "name": "stdout",
     "output_type": "stream",
     "text": [
      "M\n",
      "i\n",
      "r\n",
      "a\n",
      "ç\n",
      " \n",
      "K\n",
      "a\n",
      "y\n",
      "a\n"
     ]
    }
   ],
   "source": [
    "for harf in benim_adim:\n",
    "    print(harf)"
   ]
  },
  {
   "cell_type": "code",
   "execution_count": 25,
   "id": "27085fb8",
   "metadata": {},
   "outputs": [],
   "source": [
    "karmasik_liste = [(3,5),(4,5),(9,10),(11,20)]"
   ]
  },
  {
   "cell_type": "code",
   "execution_count": 26,
   "id": "8eba66a7",
   "metadata": {},
   "outputs": [
    {
     "data": {
      "text/plain": [
       "(11, 20)"
      ]
     },
     "execution_count": 26,
     "metadata": {},
     "output_type": "execute_result"
    }
   ],
   "source": [
    "karmasik_liste[3]"
   ]
  },
  {
   "cell_type": "code",
   "execution_count": 27,
   "id": "6bcd5ebe",
   "metadata": {},
   "outputs": [
    {
     "name": "stdout",
     "output_type": "stream",
     "text": [
      "(3, 5)\n",
      "(4, 5)\n",
      "(9, 10)\n",
      "(11, 20)\n"
     ]
    }
   ],
   "source": [
    "for eleman in karmasik_liste:\n",
    "    print(eleman)"
   ]
  },
  {
   "cell_type": "code",
   "execution_count": 28,
   "id": "46f86223",
   "metadata": {},
   "outputs": [
    {
     "name": "stdout",
     "output_type": "stream",
     "text": [
      "3\n",
      "4\n",
      "9\n",
      "11\n"
     ]
    }
   ],
   "source": [
    "for (x,y) in karmasik_liste:\n",
    "    print(x)"
   ]
  },
  {
   "cell_type": "code",
   "execution_count": 29,
   "id": "234c11fb",
   "metadata": {},
   "outputs": [],
   "source": [
    "kalori_sozluk = {\"muz\":100,\"elma\":200,\"karpuz\":300}"
   ]
  },
  {
   "cell_type": "code",
   "execution_count": 30,
   "id": "22f4b111",
   "metadata": {},
   "outputs": [
    {
     "data": {
      "text/plain": [
       "dict_items([('muz', 100), ('elma', 200), ('karpuz', 300)])"
      ]
     },
     "execution_count": 30,
     "metadata": {},
     "output_type": "execute_result"
    }
   ],
   "source": [
    "kalori_sozluk.items()"
   ]
  },
  {
   "cell_type": "code",
   "execution_count": 31,
   "id": "2c518c98",
   "metadata": {},
   "outputs": [
    {
     "name": "stdout",
     "output_type": "stream",
     "text": [
      "muz\n",
      "elma\n",
      "karpuz\n"
     ]
    }
   ],
   "source": [
    "for (anahtar,deger) in kalori_sozluk.items():\n",
    "    print(anahtar)"
   ]
  },
  {
   "cell_type": "code",
   "execution_count": 32,
   "id": "14f5382d",
   "metadata": {},
   "outputs": [],
   "source": [
    "uzun_liste = [10,20,30,40,50,60,70,80,90,100,110]"
   ]
  },
  {
   "cell_type": "code",
   "execution_count": 33,
   "id": "e8ac0d00",
   "metadata": {},
   "outputs": [
    {
     "name": "stdout",
     "output_type": "stream",
     "text": [
      "2.0\n",
      "4.0\n",
      "6.0\n",
      "8.0\n",
      "10.0\n",
      "12.0\n",
      "14.0\n",
      "16.0\n",
      "18.0\n",
      "20.0\n",
      "22.0\n"
     ]
    }
   ],
   "source": [
    "for num in uzun_liste:\n",
    "    print(num / 5)"
   ]
  },
  {
   "cell_type": "code",
   "execution_count": 36,
   "id": "5c35c1cd",
   "metadata": {},
   "outputs": [
    {
     "name": "stdout",
     "output_type": "stream",
     "text": [
      "10\n",
      "20\n",
      "30\n",
      "40\n"
     ]
    }
   ],
   "source": [
    "for num in uzun_liste:\n",
    "    if num == 50:\n",
    "        break\n",
    "    print(num)"
   ]
  },
  {
   "cell_type": "code",
   "execution_count": 37,
   "id": "fd76886b",
   "metadata": {},
   "outputs": [
    {
     "name": "stdout",
     "output_type": "stream",
     "text": [
      "10\n",
      "20\n",
      "30\n",
      "40\n",
      "60\n",
      "70\n",
      "80\n",
      "90\n",
      "100\n",
      "110\n"
     ]
    }
   ],
   "source": [
    "for num in uzun_liste:\n",
    "    if num == 50:\n",
    "        continue\n",
    "    print(num)"
   ]
  },
  {
   "cell_type": "code",
   "execution_count": 38,
   "id": "b5c1b887",
   "metadata": {},
   "outputs": [],
   "source": [
    "for num in uzun_liste:\n",
    "    pass"
   ]
  },
  {
   "cell_type": "code",
   "execution_count": null,
   "id": "34f793c1",
   "metadata": {},
   "outputs": [],
   "source": [
    "#while döngüsü"
   ]
  },
  {
   "cell_type": "code",
   "execution_count": null,
   "id": "1f71e3a8",
   "metadata": {},
   "outputs": [],
   "source": [
    "a = 0\n",
    "while a < 10:\n",
    "    print(a)\n",
    "    a = a + 1"
   ]
  },
  {
   "cell_type": "code",
   "execution_count": null,
   "id": "2bc30db5",
   "metadata": {},
   "outputs": [],
   "source": []
  },
  {
   "cell_type": "code",
   "execution_count": null,
   "id": "676e3a4a",
   "metadata": {},
   "outputs": [],
   "source": []
  },
  {
   "cell_type": "code",
   "execution_count": null,
   "id": "43c6d8d7",
   "metadata": {},
   "outputs": [],
   "source": []
  }
 ],
 "metadata": {
  "kernelspec": {
   "display_name": "Python 3 (ipykernel)",
   "language": "python",
   "name": "python3"
  },
  "language_info": {
   "codemirror_mode": {
    "name": "ipython",
    "version": 3
   },
   "file_extension": ".py",
   "mimetype": "text/x-python",
   "name": "python",
   "nbconvert_exporter": "python",
   "pygments_lexer": "ipython3",
   "version": "3.11.5"
  }
 },
 "nbformat": 4,
 "nbformat_minor": 5
}
