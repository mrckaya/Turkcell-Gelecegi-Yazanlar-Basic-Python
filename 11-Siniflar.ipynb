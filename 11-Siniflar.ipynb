{
 "cells": [
  {
   "cell_type": "code",
   "execution_count": 1,
   "id": "38d6cb95",
   "metadata": {},
   "outputs": [],
   "source": [
    "benim_sozluk = dict()"
   ]
  },
  {
   "cell_type": "code",
   "execution_count": 2,
   "id": "5231bede",
   "metadata": {},
   "outputs": [],
   "source": [
    "benim_sozluk[\"anahtar\"] = \"değer\""
   ]
  },
  {
   "cell_type": "code",
   "execution_count": 3,
   "id": "ac8651ba",
   "metadata": {},
   "outputs": [
    {
     "data": {
      "text/plain": [
       "{'anahtar': 'değer'}"
      ]
     },
     "execution_count": 3,
     "metadata": {},
     "output_type": "execute_result"
    }
   ],
   "source": [
    "benim_sozluk"
   ]
  },
  {
   "cell_type": "code",
   "execution_count": 4,
   "id": "de371f4e",
   "metadata": {},
   "outputs": [
    {
     "data": {
      "text/plain": [
       "dict"
      ]
     },
     "execution_count": 4,
     "metadata": {},
     "output_type": "execute_result"
    }
   ],
   "source": [
    "type(benim_sozluk)"
   ]
  },
  {
   "cell_type": "code",
   "execution_count": 5,
   "id": "2cc499e6",
   "metadata": {},
   "outputs": [
    {
     "name": "stdout",
     "output_type": "stream",
     "text": [
      "Help on class dict in module builtins:\n",
      "\n",
      "class dict(object)\n",
      " |  dict() -> new empty dictionary\n",
      " |  dict(mapping) -> new dictionary initialized from a mapping object's\n",
      " |      (key, value) pairs\n",
      " |  dict(iterable) -> new dictionary initialized as if via:\n",
      " |      d = {}\n",
      " |      for k, v in iterable:\n",
      " |          d[k] = v\n",
      " |  dict(**kwargs) -> new dictionary initialized with the name=value pairs\n",
      " |      in the keyword argument list.  For example:  dict(one=1, two=2)\n",
      " |  \n",
      " |  Built-in subclasses:\n",
      " |      StgDict\n",
      " |  \n",
      " |  Methods defined here:\n",
      " |  \n",
      " |  __contains__(self, key, /)\n",
      " |      True if the dictionary has the specified key, else False.\n",
      " |  \n",
      " |  __delitem__(self, key, /)\n",
      " |      Delete self[key].\n",
      " |  \n",
      " |  __eq__(self, value, /)\n",
      " |      Return self==value.\n",
      " |  \n",
      " |  __ge__(self, value, /)\n",
      " |      Return self>=value.\n",
      " |  \n",
      " |  __getattribute__(self, name, /)\n",
      " |      Return getattr(self, name).\n",
      " |  \n",
      " |  __getitem__(...)\n",
      " |      x.__getitem__(y) <==> x[y]\n",
      " |  \n",
      " |  __gt__(self, value, /)\n",
      " |      Return self>value.\n",
      " |  \n",
      " |  __init__(self, /, *args, **kwargs)\n",
      " |      Initialize self.  See help(type(self)) for accurate signature.\n",
      " |  \n",
      " |  __ior__(self, value, /)\n",
      " |      Return self|=value.\n",
      " |  \n",
      " |  __iter__(self, /)\n",
      " |      Implement iter(self).\n",
      " |  \n",
      " |  __le__(self, value, /)\n",
      " |      Return self<=value.\n",
      " |  \n",
      " |  __len__(self, /)\n",
      " |      Return len(self).\n",
      " |  \n",
      " |  __lt__(self, value, /)\n",
      " |      Return self<value.\n",
      " |  \n",
      " |  __ne__(self, value, /)\n",
      " |      Return self!=value.\n",
      " |  \n",
      " |  __or__(self, value, /)\n",
      " |      Return self|value.\n",
      " |  \n",
      " |  __repr__(self, /)\n",
      " |      Return repr(self).\n",
      " |  \n",
      " |  __reversed__(self, /)\n",
      " |      Return a reverse iterator over the dict keys.\n",
      " |  \n",
      " |  __ror__(self, value, /)\n",
      " |      Return value|self.\n",
      " |  \n",
      " |  __setitem__(self, key, value, /)\n",
      " |      Set self[key] to value.\n",
      " |  \n",
      " |  __sizeof__(...)\n",
      " |      D.__sizeof__() -> size of D in memory, in bytes\n",
      " |  \n",
      " |  clear(...)\n",
      " |      D.clear() -> None.  Remove all items from D.\n",
      " |  \n",
      " |  copy(...)\n",
      " |      D.copy() -> a shallow copy of D\n",
      " |  \n",
      " |  get(self, key, default=None, /)\n",
      " |      Return the value for key if key is in the dictionary, else default.\n",
      " |  \n",
      " |  items(...)\n",
      " |      D.items() -> a set-like object providing a view on D's items\n",
      " |  \n",
      " |  keys(...)\n",
      " |      D.keys() -> a set-like object providing a view on D's keys\n",
      " |  \n",
      " |  pop(...)\n",
      " |      D.pop(k[,d]) -> v, remove specified key and return the corresponding value.\n",
      " |      \n",
      " |      If the key is not found, return the default if given; otherwise,\n",
      " |      raise a KeyError.\n",
      " |  \n",
      " |  popitem(self, /)\n",
      " |      Remove and return a (key, value) pair as a 2-tuple.\n",
      " |      \n",
      " |      Pairs are returned in LIFO (last-in, first-out) order.\n",
      " |      Raises KeyError if the dict is empty.\n",
      " |  \n",
      " |  setdefault(self, key, default=None, /)\n",
      " |      Insert key with a value of default if key is not in the dictionary.\n",
      " |      \n",
      " |      Return the value for key if key is in the dictionary, else default.\n",
      " |  \n",
      " |  update(...)\n",
      " |      D.update([E, ]**F) -> None.  Update D from dict/iterable E and F.\n",
      " |      If E is present and has a .keys() method, then does:  for k in E: D[k] = E[k]\n",
      " |      If E is present and lacks a .keys() method, then does:  for k, v in E: D[k] = v\n",
      " |      In either case, this is followed by: for k in F:  D[k] = F[k]\n",
      " |  \n",
      " |  values(...)\n",
      " |      D.values() -> an object providing a view on D's values\n",
      " |  \n",
      " |  ----------------------------------------------------------------------\n",
      " |  Class methods defined here:\n",
      " |  \n",
      " |  __class_getitem__(...) from builtins.type\n",
      " |      See PEP 585\n",
      " |  \n",
      " |  fromkeys(iterable, value=None, /) from builtins.type\n",
      " |      Create a new dictionary with keys from iterable and values set to value.\n",
      " |  \n",
      " |  ----------------------------------------------------------------------\n",
      " |  Static methods defined here:\n",
      " |  \n",
      " |  __new__(*args, **kwargs) from builtins.type\n",
      " |      Create and return a new object.  See help(type) for accurate signature.\n",
      " |  \n",
      " |  ----------------------------------------------------------------------\n",
      " |  Data and other attributes defined here:\n",
      " |  \n",
      " |  __hash__ = None\n",
      "\n"
     ]
    }
   ],
   "source": [
    "help(dict)"
   ]
  },
  {
   "cell_type": "code",
   "execution_count": 6,
   "id": "ab178f10",
   "metadata": {},
   "outputs": [
    {
     "name": "stdout",
     "output_type": "stream",
     "text": [
      "Help on class list in module builtins:\n",
      "\n",
      "class list(object)\n",
      " |  list(iterable=(), /)\n",
      " |  \n",
      " |  Built-in mutable sequence.\n",
      " |  \n",
      " |  If no argument is given, the constructor creates a new empty list.\n",
      " |  The argument must be an iterable if specified.\n",
      " |  \n",
      " |  Methods defined here:\n",
      " |  \n",
      " |  __add__(self, value, /)\n",
      " |      Return self+value.\n",
      " |  \n",
      " |  __contains__(self, key, /)\n",
      " |      Return key in self.\n",
      " |  \n",
      " |  __delitem__(self, key, /)\n",
      " |      Delete self[key].\n",
      " |  \n",
      " |  __eq__(self, value, /)\n",
      " |      Return self==value.\n",
      " |  \n",
      " |  __ge__(self, value, /)\n",
      " |      Return self>=value.\n",
      " |  \n",
      " |  __getattribute__(self, name, /)\n",
      " |      Return getattr(self, name).\n",
      " |  \n",
      " |  __getitem__(...)\n",
      " |      x.__getitem__(y) <==> x[y]\n",
      " |  \n",
      " |  __gt__(self, value, /)\n",
      " |      Return self>value.\n",
      " |  \n",
      " |  __iadd__(self, value, /)\n",
      " |      Implement self+=value.\n",
      " |  \n",
      " |  __imul__(self, value, /)\n",
      " |      Implement self*=value.\n",
      " |  \n",
      " |  __init__(self, /, *args, **kwargs)\n",
      " |      Initialize self.  See help(type(self)) for accurate signature.\n",
      " |  \n",
      " |  __iter__(self, /)\n",
      " |      Implement iter(self).\n",
      " |  \n",
      " |  __le__(self, value, /)\n",
      " |      Return self<=value.\n",
      " |  \n",
      " |  __len__(self, /)\n",
      " |      Return len(self).\n",
      " |  \n",
      " |  __lt__(self, value, /)\n",
      " |      Return self<value.\n",
      " |  \n",
      " |  __mul__(self, value, /)\n",
      " |      Return self*value.\n",
      " |  \n",
      " |  __ne__(self, value, /)\n",
      " |      Return self!=value.\n",
      " |  \n",
      " |  __repr__(self, /)\n",
      " |      Return repr(self).\n",
      " |  \n",
      " |  __reversed__(self, /)\n",
      " |      Return a reverse iterator over the list.\n",
      " |  \n",
      " |  __rmul__(self, value, /)\n",
      " |      Return value*self.\n",
      " |  \n",
      " |  __setitem__(self, key, value, /)\n",
      " |      Set self[key] to value.\n",
      " |  \n",
      " |  __sizeof__(self, /)\n",
      " |      Return the size of the list in memory, in bytes.\n",
      " |  \n",
      " |  append(self, object, /)\n",
      " |      Append object to the end of the list.\n",
      " |  \n",
      " |  clear(self, /)\n",
      " |      Remove all items from list.\n",
      " |  \n",
      " |  copy(self, /)\n",
      " |      Return a shallow copy of the list.\n",
      " |  \n",
      " |  count(self, value, /)\n",
      " |      Return number of occurrences of value.\n",
      " |  \n",
      " |  extend(self, iterable, /)\n",
      " |      Extend list by appending elements from the iterable.\n",
      " |  \n",
      " |  index(self, value, start=0, stop=9223372036854775807, /)\n",
      " |      Return first index of value.\n",
      " |      \n",
      " |      Raises ValueError if the value is not present.\n",
      " |  \n",
      " |  insert(self, index, object, /)\n",
      " |      Insert object before index.\n",
      " |  \n",
      " |  pop(self, index=-1, /)\n",
      " |      Remove and return item at index (default last).\n",
      " |      \n",
      " |      Raises IndexError if list is empty or index is out of range.\n",
      " |  \n",
      " |  remove(self, value, /)\n",
      " |      Remove first occurrence of value.\n",
      " |      \n",
      " |      Raises ValueError if the value is not present.\n",
      " |  \n",
      " |  reverse(self, /)\n",
      " |      Reverse *IN PLACE*.\n",
      " |  \n",
      " |  sort(self, /, *, key=None, reverse=False)\n",
      " |      Sort the list in ascending order and return None.\n",
      " |      \n",
      " |      The sort is in-place (i.e. the list itself is modified) and stable (i.e. the\n",
      " |      order of two equal elements is maintained).\n",
      " |      \n",
      " |      If a key function is given, apply it once to each list item and sort them,\n",
      " |      ascending or descending, according to their function values.\n",
      " |      \n",
      " |      The reverse flag can be set to sort in descending order.\n",
      " |  \n",
      " |  ----------------------------------------------------------------------\n",
      " |  Class methods defined here:\n",
      " |  \n",
      " |  __class_getitem__(...) from builtins.type\n",
      " |      See PEP 585\n",
      " |  \n",
      " |  ----------------------------------------------------------------------\n",
      " |  Static methods defined here:\n",
      " |  \n",
      " |  __new__(*args, **kwargs) from builtins.type\n",
      " |      Create and return a new object.  See help(type) for accurate signature.\n",
      " |  \n",
      " |  ----------------------------------------------------------------------\n",
      " |  Data and other attributes defined here:\n",
      " |  \n",
      " |  __hash__ = None\n",
      "\n"
     ]
    }
   ],
   "source": [
    "help(list)"
   ]
  },
  {
   "cell_type": "code",
   "execution_count": 7,
   "id": "cd86fcf4",
   "metadata": {},
   "outputs": [],
   "source": [
    "meyve_adi = \"Elma\"\n",
    "meyve_kalorisi = 100\n",
    "meyve_rengi = \"Kırmızı\""
   ]
  },
  {
   "cell_type": "code",
   "execution_count": 8,
   "id": "b2b74db3",
   "metadata": {},
   "outputs": [],
   "source": [
    "# instance & attribute & instantiate & init - initalize"
   ]
  },
  {
   "cell_type": "code",
   "execution_count": 9,
   "id": "d7ef82f4",
   "metadata": {},
   "outputs": [],
   "source": [
    "class Meyve():\n",
    "    isim = \"\""
   ]
  },
  {
   "cell_type": "code",
   "execution_count": 10,
   "id": "71bd9ddf",
   "metadata": {},
   "outputs": [],
   "source": [
    "elma = Meyve()"
   ]
  },
  {
   "cell_type": "code",
   "execution_count": 11,
   "id": "3cbbf25e",
   "metadata": {},
   "outputs": [
    {
     "data": {
      "text/plain": [
       "__main__.Meyve"
      ]
     },
     "execution_count": 11,
     "metadata": {},
     "output_type": "execute_result"
    }
   ],
   "source": [
    "type(elma)"
   ]
  },
  {
   "cell_type": "code",
   "execution_count": 12,
   "id": "e1fb97e4",
   "metadata": {},
   "outputs": [
    {
     "name": "stdout",
     "output_type": "stream",
     "text": [
      "\n"
     ]
    }
   ],
   "source": [
    "print(elma.isim)"
   ]
  },
  {
   "cell_type": "code",
   "execution_count": 13,
   "id": "d7e6691a",
   "metadata": {},
   "outputs": [],
   "source": [
    "elma.isim = \"Elma\""
   ]
  },
  {
   "cell_type": "code",
   "execution_count": 14,
   "id": "05d743da",
   "metadata": {},
   "outputs": [
    {
     "name": "stdout",
     "output_type": "stream",
     "text": [
      "Elma\n"
     ]
    }
   ],
   "source": [
    "print(elma.isim)"
   ]
  },
  {
   "cell_type": "code",
   "execution_count": 15,
   "id": "539bb268",
   "metadata": {},
   "outputs": [],
   "source": [
    "class Meyve():\n",
    "    isim = \"\"\n",
    "    kalori = 0\n",
    "    renk = \"\""
   ]
  },
  {
   "cell_type": "code",
   "execution_count": 16,
   "id": "96c7d312",
   "metadata": {},
   "outputs": [],
   "source": [
    "elma = Meyve()"
   ]
  },
  {
   "cell_type": "code",
   "execution_count": 18,
   "id": "023d8080",
   "metadata": {},
   "outputs": [],
   "source": [
    "elma.isim = \"Elma\"\n",
    "elma.kalori = 100\n",
    "elma.renk = \"Kırmızı\""
   ]
  },
  {
   "cell_type": "code",
   "execution_count": 32,
   "id": "7ac0477a",
   "metadata": {},
   "outputs": [],
   "source": [
    "class Meyve():\n",
    "    \n",
    "    def __init__(self, isim, kalori, renk):\n",
    "        print(\"init çalıştırıldı\")\n",
    "        self.isim = isim\n",
    "        self.kalori = kalori\n",
    "        self.renk = renk\n",
    "    \n",
    "    def meyveninRengiNe(self):\n",
    "        print(f\"meyvenin rengi şudur:{self.renk}\")"
   ]
  },
  {
   "cell_type": "code",
   "execution_count": 33,
   "id": "f2e43185",
   "metadata": {},
   "outputs": [
    {
     "name": "stdout",
     "output_type": "stream",
     "text": [
      "init çalıştırıldı\n"
     ]
    }
   ],
   "source": [
    "elma = Meyve(\"Elma\",100,\"Kırmızı\")"
   ]
  },
  {
   "cell_type": "code",
   "execution_count": 34,
   "id": "a220e979",
   "metadata": {},
   "outputs": [
    {
     "data": {
      "text/plain": [
       "'Elma'"
      ]
     },
     "execution_count": 34,
     "metadata": {},
     "output_type": "execute_result"
    }
   ],
   "source": [
    "elma.isim"
   ]
  },
  {
   "cell_type": "code",
   "execution_count": 36,
   "id": "1fb82faa",
   "metadata": {
    "scrolled": true
   },
   "outputs": [
    {
     "name": "stdout",
     "output_type": "stream",
     "text": [
      "meyvenin rengi şudur:Kırmızı\n"
     ]
    }
   ],
   "source": [
    "elma.meyveninRengiNe()"
   ]
  },
  {
   "cell_type": "code",
   "execution_count": 37,
   "id": "98d82073",
   "metadata": {},
   "outputs": [],
   "source": [
    "class kedi():\n",
    "    \n",
    "    def __init__(self, yas):\n",
    "        self.yas = yas\n",
    "        self.insanYasinaCevrilmisHali = yas * 7\n",
    "        \n",
    "    def insanYasiniHesapla(self):\n",
    "        return self.yas * 7"
   ]
  },
  {
   "cell_type": "code",
   "execution_count": 38,
   "id": "82d1ad59",
   "metadata": {},
   "outputs": [],
   "source": [
    "benim_kedim = kedi(3)"
   ]
  },
  {
   "cell_type": "code",
   "execution_count": 39,
   "id": "142bf1e1",
   "metadata": {},
   "outputs": [
    {
     "data": {
      "text/plain": [
       "21"
      ]
     },
     "execution_count": 39,
     "metadata": {},
     "output_type": "execute_result"
    }
   ],
   "source": [
    "benim_kedim.insanYasiniHesapla()"
   ]
  },
  {
   "cell_type": "code",
   "execution_count": 40,
   "id": "557058bc",
   "metadata": {},
   "outputs": [],
   "source": [
    "class kedi():\n",
    "    \n",
    "    yil_carpani = 7\n",
    "    \n",
    "    def __init__(self, yas):\n",
    "        self.yas = yas\n",
    "        self.insanYasinaCevrilmisHali = yas * 7\n",
    "        \n",
    "    def insanYasiniHesapla(self):\n",
    "        return self.yas * self.yil_carpani"
   ]
  },
  {
   "cell_type": "code",
   "execution_count": 44,
   "id": "a0c4abe5",
   "metadata": {},
   "outputs": [],
   "source": [
    "baska_kedi = kedi(4)"
   ]
  },
  {
   "cell_type": "code",
   "execution_count": 45,
   "id": "de67fed0",
   "metadata": {},
   "outputs": [
    {
     "data": {
      "text/plain": [
       "28"
      ]
     },
     "execution_count": 45,
     "metadata": {},
     "output_type": "execute_result"
    }
   ],
   "source": [
    "baska_kedi.insanYasiniHesapla()"
   ]
  },
  {
   "cell_type": "code",
   "execution_count": 46,
   "id": "652b0767",
   "metadata": {},
   "outputs": [],
   "source": [
    "#inheritance"
   ]
  },
  {
   "cell_type": "code",
   "execution_count": 48,
   "id": "618ce028",
   "metadata": {},
   "outputs": [],
   "source": [
    "class canli():\n",
    "    def __init__(self):\n",
    "        print(\"canlı sınıfı init çalıştırıldı\")\n",
    "        \n",
    "    def method1(self):\n",
    "        print(\"canlı sınıfı method1 çalıştırıldı\")\n",
    "        \n",
    "    def method2(self):\n",
    "        print(\"canlı sınıfı method2 çalıştırıldı\")"
   ]
  },
  {
   "cell_type": "code",
   "execution_count": 49,
   "id": "59ab6ba5",
   "metadata": {},
   "outputs": [
    {
     "name": "stdout",
     "output_type": "stream",
     "text": [
      "canlı sınıfı init çalıştırıldı\n"
     ]
    }
   ],
   "source": [
    "mirac = canli()"
   ]
  },
  {
   "cell_type": "code",
   "execution_count": 50,
   "id": "3d6f2f66",
   "metadata": {},
   "outputs": [
    {
     "name": "stdout",
     "output_type": "stream",
     "text": [
      "canlı sınıfı method1 çalıştırıldı\n"
     ]
    }
   ],
   "source": [
    "mirac.method1()"
   ]
  },
  {
   "cell_type": "code",
   "execution_count": 51,
   "id": "91f6ae1a",
   "metadata": {},
   "outputs": [
    {
     "name": "stdout",
     "output_type": "stream",
     "text": [
      "canlı sınıfı method2 çalıştırıldı\n"
     ]
    }
   ],
   "source": [
    "mirac.method2()"
   ]
  },
  {
   "cell_type": "code",
   "execution_count": 52,
   "id": "08db254b",
   "metadata": {},
   "outputs": [],
   "source": [
    "class kopek(canli):\n",
    "    \n",
    "    def __init__(self):\n",
    "        canli.__init__(self)\n",
    "        print(\"köpek sınıfının init'i çağırıldı\")\n",
    "        \n",
    "    def havlamak(self):\n",
    "        print(\"hav\")"
   ]
  },
  {
   "cell_type": "code",
   "execution_count": 53,
   "id": "b2781966",
   "metadata": {},
   "outputs": [
    {
     "name": "stdout",
     "output_type": "stream",
     "text": [
      "canlı sınıfı init çalıştırıldı\n",
      "köpek sınıfının init'i çağırıldı\n"
     ]
    }
   ],
   "source": [
    "benim_kopek = kopek()"
   ]
  },
  {
   "cell_type": "code",
   "execution_count": 54,
   "id": "805c67d1",
   "metadata": {},
   "outputs": [
    {
     "name": "stdout",
     "output_type": "stream",
     "text": [
      "hav\n"
     ]
    }
   ],
   "source": [
    "benim_kopek.havlamak()"
   ]
  },
  {
   "cell_type": "code",
   "execution_count": 55,
   "id": "4861c0a9",
   "metadata": {},
   "outputs": [
    {
     "name": "stdout",
     "output_type": "stream",
     "text": [
      "canlı sınıfı method1 çalıştırıldı\n"
     ]
    }
   ],
   "source": [
    "benim_kopek.method1()"
   ]
  },
  {
   "cell_type": "code",
   "execution_count": 56,
   "id": "439a1a79",
   "metadata": {},
   "outputs": [],
   "source": [
    "#polymorphism"
   ]
  },
  {
   "cell_type": "code",
   "execution_count": 73,
   "id": "6d5a2051",
   "metadata": {},
   "outputs": [],
   "source": [
    "class Kosma():\n",
    "    \n",
    "    def __init__(self,isim):\n",
    "        self.isim = isim\n",
    "        \n",
    "    def bilgiAl(self):\n",
    "        return self.isim + \"250 kalori yaktırır\""
   ]
  },
  {
   "cell_type": "code",
   "execution_count": 77,
   "id": "aa5be354",
   "metadata": {},
   "outputs": [],
   "source": [
    "class Yuzme():\n",
    "    \n",
    "    def __init__(self,isim):\n",
    "        self.isim = isim\n",
    "        \n",
    "    def bilgiAl(self):\n",
    "        return self.isim + \"350 kalori yaktırır\"        "
   ]
  },
  {
   "cell_type": "code",
   "execution_count": 78,
   "id": "b258a26d",
   "metadata": {},
   "outputs": [],
   "source": [
    "kosma = Kosma(\"Kosma\")"
   ]
  },
  {
   "cell_type": "code",
   "execution_count": 79,
   "id": "7b9efb30",
   "metadata": {},
   "outputs": [],
   "source": [
    "yuzme = Yuzme(\"Yuzme\")"
   ]
  },
  {
   "cell_type": "code",
   "execution_count": 80,
   "id": "066fc6e3",
   "metadata": {},
   "outputs": [
    {
     "data": {
      "text/plain": [
       "'Kosma250 kalori yaktırır'"
      ]
     },
     "execution_count": 80,
     "metadata": {},
     "output_type": "execute_result"
    }
   ],
   "source": [
    "kosma.bilgiAl()"
   ]
  },
  {
   "cell_type": "code",
   "execution_count": 81,
   "id": "fb634a29",
   "metadata": {},
   "outputs": [
    {
     "data": {
      "text/plain": [
       "'Yuzme350 kalori yaktırır'"
      ]
     },
     "execution_count": 81,
     "metadata": {},
     "output_type": "execute_result"
    }
   ],
   "source": [
    "yuzme.bilgiAl()"
   ]
  },
  {
   "cell_type": "code",
   "execution_count": 82,
   "id": "1968cbad",
   "metadata": {},
   "outputs": [],
   "source": [
    "spor_listesi = [kosma, yuzme]"
   ]
  },
  {
   "cell_type": "code",
   "execution_count": 83,
   "id": "31fe724c",
   "metadata": {},
   "outputs": [
    {
     "name": "stdout",
     "output_type": "stream",
     "text": [
      "Kosma250 kalori yaktırır\n",
      "Yuzme350 kalori yaktırır\n"
     ]
    }
   ],
   "source": [
    "for spor in spor_listesi:\n",
    "    print(spor.bilgiAl())"
   ]
  },
  {
   "cell_type": "code",
   "execution_count": 89,
   "id": "eb145081",
   "metadata": {},
   "outputs": [],
   "source": [
    "class Superkahraman():\n",
    "    \n",
    "    def __init__(self, isim, yas):\n",
    "        self.isim = isim\n",
    "        self.yas = yas\n",
    "        \n",
    "    def __str__(self):\n",
    "        return f\"{self.isim} çok iyi bir süperkahramandır\""
   ]
  },
  {
   "cell_type": "code",
   "execution_count": 90,
   "id": "2219f3f8",
   "metadata": {},
   "outputs": [],
   "source": [
    "batman = Superkahraman(\"Batman\",30)"
   ]
  },
  {
   "cell_type": "code",
   "execution_count": 91,
   "id": "2cae96d3",
   "metadata": {},
   "outputs": [
    {
     "data": {
      "text/plain": [
       "'Batman'"
      ]
     },
     "execution_count": 91,
     "metadata": {},
     "output_type": "execute_result"
    }
   ],
   "source": [
    "batman.isim"
   ]
  },
  {
   "cell_type": "code",
   "execution_count": 92,
   "id": "6c207a86",
   "metadata": {},
   "outputs": [
    {
     "data": {
      "text/plain": [
       "30"
      ]
     },
     "execution_count": 92,
     "metadata": {},
     "output_type": "execute_result"
    }
   ],
   "source": [
    "batman.yas"
   ]
  },
  {
   "cell_type": "code",
   "execution_count": 93,
   "id": "ad4c5459",
   "metadata": {},
   "outputs": [
    {
     "name": "stdout",
     "output_type": "stream",
     "text": [
      "Batman çok iyi bir süperkahramandır\n"
     ]
    }
   ],
   "source": [
    "print(batman)"
   ]
  },
  {
   "cell_type": "code",
   "execution_count": null,
   "id": "c4a146fc",
   "metadata": {},
   "outputs": [],
   "source": []
  }
 ],
 "metadata": {
  "kernelspec": {
   "display_name": "Python 3 (ipykernel)",
   "language": "python",
   "name": "python3"
  },
  "language_info": {
   "codemirror_mode": {
    "name": "ipython",
    "version": 3
   },
   "file_extension": ".py",
   "mimetype": "text/x-python",
   "name": "python",
   "nbconvert_exporter": "python",
   "pygments_lexer": "ipython3",
   "version": "3.11.5"
  }
 },
 "nbformat": 4,
 "nbformat_minor": 5
}
